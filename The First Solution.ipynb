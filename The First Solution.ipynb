{
 "cells": [
  {
   "cell_type": "markdown",
   "metadata": {},
   "source": [
    "# The First Solution\n",
    "    This notebook analyses various outcomes on analyzing Amazon Reviews through Topic Modelling. Also, it proides insights on what value can be mined from this information."
   ]
  },
  {
   "cell_type": "markdown",
   "metadata": {},
   "source": [
    "### Reading the Data\n",
    "     This piece of code unzips the package and parses the json document as a pandas dataframe."
   ]
  },
  {
   "cell_type": "code",
   "execution_count": 1,
   "metadata": {
    "collapsed": true
   },
   "outputs": [],
   "source": [
    "data_dir = 'C:/Users/maruv/Desktop/DSB/LDA/'"
   ]
  },
  {
   "cell_type": "code",
   "execution_count": 2,
   "metadata": {
    "collapsed": true
   },
   "outputs": [],
   "source": [
    "import json\n",
    "import os\n",
    "import glob\n",
    "import numpy as np\n",
    "import random"
   ]
  },
  {
   "cell_type": "code",
   "execution_count": 3,
   "metadata": {
    "collapsed": true
   },
   "outputs": [],
   "source": [
    "import pandas as pd\n",
    "import gzip\n",
    "\n",
    "def parse(path):\n",
    "    g = gzip.open(path, 'rb')\n",
    "    for l in g:\n",
    "        yield eval(l)\n",
    "\n",
    "def getDF(path):\n",
    "    i = 0\n",
    "    df = {}\n",
    "    for d in parse(path):\n",
    "        df[i] = d\n",
    "        i += 1\n",
    "    return pd.DataFrame.from_dict(df, orient='index')"
   ]
  },
  {
   "cell_type": "code",
   "execution_count": 4,
   "metadata": {
    "collapsed": true
   },
   "outputs": [],
   "source": [
    "df_reviews = getDF(data_dir+'reviews_Cell_Phones_and_Accessories_5.json.gz')\n",
    "df_metadata = getDF(data_dir+'meta_Cell_Phones_and_Accessories.json.gz')"
   ]
  },
  {
   "cell_type": "markdown",
   "metadata": {},
   "source": [
    "## Selecting the Item\n",
    "    We need to be able to select the item to analyse. Through this flow the item and further details about it can be viewed."
   ]
  },
  {
   "cell_type": "code",
   "execution_count": 5,
   "metadata": {
    "collapsed": false
   },
   "outputs": [
    {
     "data": {
      "text/html": [
       "<div>\n",
       "<style>\n",
       "    .dataframe thead tr:only-child th {\n",
       "        text-align: right;\n",
       "    }\n",
       "\n",
       "    .dataframe thead th {\n",
       "        text-align: left;\n",
       "    }\n",
       "\n",
       "    .dataframe tbody tr th {\n",
       "        vertical-align: top;\n",
       "    }\n",
       "</style>\n",
       "<table border=\"1\" class=\"dataframe\">\n",
       "  <thead>\n",
       "    <tr style=\"text-align: right;\">\n",
       "      <th></th>\n",
       "      <th>reviewerID</th>\n",
       "      <th>asin</th>\n",
       "      <th>reviewerName</th>\n",
       "      <th>helpful</th>\n",
       "      <th>reviewText</th>\n",
       "      <th>overall</th>\n",
       "      <th>summary</th>\n",
       "      <th>unixReviewTime</th>\n",
       "      <th>reviewTime</th>\n",
       "    </tr>\n",
       "  </thead>\n",
       "  <tbody>\n",
       "    <tr>\n",
       "      <th>0</th>\n",
       "      <td>A30TL5EWN6DFXT</td>\n",
       "      <td>120401325X</td>\n",
       "      <td>christina</td>\n",
       "      <td>[0, 0]</td>\n",
       "      <td>They look good and stick good! I just don't li...</td>\n",
       "      <td>4.0</td>\n",
       "      <td>Looks Good</td>\n",
       "      <td>1400630400</td>\n",
       "      <td>05 21, 2014</td>\n",
       "    </tr>\n",
       "    <tr>\n",
       "      <th>1</th>\n",
       "      <td>ASY55RVNIL0UD</td>\n",
       "      <td>120401325X</td>\n",
       "      <td>emily l.</td>\n",
       "      <td>[0, 0]</td>\n",
       "      <td>These stickers work like the review says they ...</td>\n",
       "      <td>5.0</td>\n",
       "      <td>Really great product.</td>\n",
       "      <td>1389657600</td>\n",
       "      <td>01 14, 2014</td>\n",
       "    </tr>\n",
       "    <tr>\n",
       "      <th>2</th>\n",
       "      <td>A2TMXE2AFO7ONB</td>\n",
       "      <td>120401325X</td>\n",
       "      <td>Erica</td>\n",
       "      <td>[0, 0]</td>\n",
       "      <td>These are awesome and make my phone look so st...</td>\n",
       "      <td>5.0</td>\n",
       "      <td>LOVE LOVE LOVE</td>\n",
       "      <td>1403740800</td>\n",
       "      <td>06 26, 2014</td>\n",
       "    </tr>\n",
       "    <tr>\n",
       "      <th>3</th>\n",
       "      <td>AWJ0WZQYMYFQ4</td>\n",
       "      <td>120401325X</td>\n",
       "      <td>JM</td>\n",
       "      <td>[4, 4]</td>\n",
       "      <td>Item arrived in great time and was in perfect ...</td>\n",
       "      <td>4.0</td>\n",
       "      <td>Cute!</td>\n",
       "      <td>1382313600</td>\n",
       "      <td>10 21, 2013</td>\n",
       "    </tr>\n",
       "    <tr>\n",
       "      <th>4</th>\n",
       "      <td>ATX7CZYFXI1KW</td>\n",
       "      <td>120401325X</td>\n",
       "      <td>patrice m rogoza</td>\n",
       "      <td>[2, 3]</td>\n",
       "      <td>awesome! stays on, and looks great. can be use...</td>\n",
       "      <td>5.0</td>\n",
       "      <td>leopard home button sticker for iphone 4s</td>\n",
       "      <td>1359849600</td>\n",
       "      <td>02 3, 2013</td>\n",
       "    </tr>\n",
       "  </tbody>\n",
       "</table>\n",
       "</div>"
      ],
      "text/plain": [
       "       reviewerID        asin      reviewerName helpful  \\\n",
       "0  A30TL5EWN6DFXT  120401325X         christina  [0, 0]   \n",
       "1   ASY55RVNIL0UD  120401325X          emily l.  [0, 0]   \n",
       "2  A2TMXE2AFO7ONB  120401325X             Erica  [0, 0]   \n",
       "3   AWJ0WZQYMYFQ4  120401325X                JM  [4, 4]   \n",
       "4   ATX7CZYFXI1KW  120401325X  patrice m rogoza  [2, 3]   \n",
       "\n",
       "                                          reviewText  overall  \\\n",
       "0  They look good and stick good! I just don't li...      4.0   \n",
       "1  These stickers work like the review says they ...      5.0   \n",
       "2  These are awesome and make my phone look so st...      5.0   \n",
       "3  Item arrived in great time and was in perfect ...      4.0   \n",
       "4  awesome! stays on, and looks great. can be use...      5.0   \n",
       "\n",
       "                                     summary  unixReviewTime   reviewTime  \n",
       "0                                 Looks Good      1400630400  05 21, 2014  \n",
       "1                      Really great product.      1389657600  01 14, 2014  \n",
       "2                             LOVE LOVE LOVE      1403740800  06 26, 2014  \n",
       "3                                      Cute!      1382313600  10 21, 2013  \n",
       "4  leopard home button sticker for iphone 4s      1359849600   02 3, 2013  "
      ]
     },
     "execution_count": 5,
     "metadata": {},
     "output_type": "execute_result"
    }
   ],
   "source": [
    "df_reviews.head()"
   ]
  },
  {
   "cell_type": "code",
   "execution_count": 6,
   "metadata": {
    "collapsed": false
   },
   "outputs": [
    {
     "data": {
      "text/html": [
       "<div>\n",
       "<style>\n",
       "    .dataframe thead tr:only-child th {\n",
       "        text-align: right;\n",
       "    }\n",
       "\n",
       "    .dataframe thead th {\n",
       "        text-align: left;\n",
       "    }\n",
       "\n",
       "    .dataframe tbody tr th {\n",
       "        vertical-align: top;\n",
       "    }\n",
       "</style>\n",
       "<table border=\"1\" class=\"dataframe\">\n",
       "  <thead>\n",
       "    <tr style=\"text-align: right;\">\n",
       "      <th></th>\n",
       "      <th>asin</th>\n",
       "      <th>related</th>\n",
       "      <th>title</th>\n",
       "      <th>price</th>\n",
       "      <th>salesRank</th>\n",
       "      <th>imUrl</th>\n",
       "      <th>brand</th>\n",
       "      <th>categories</th>\n",
       "      <th>description</th>\n",
       "    </tr>\n",
       "  </thead>\n",
       "  <tbody>\n",
       "    <tr>\n",
       "      <th>0</th>\n",
       "      <td>0110400550</td>\n",
       "      <td>{'also_bought': ['B00C56IXFG', 'B008ZUQWOK', '...</td>\n",
       "      <td>Pink &amp;amp; White 3d Melt Ice-cream Skin Hard C...</td>\n",
       "      <td>3.33</td>\n",
       "      <td>{'Cell Phones &amp; Accessories': 83460}</td>\n",
       "      <td>http://ecx.images-amazon.com/images/I/31zn6SOL...</td>\n",
       "      <td></td>\n",
       "      <td>[[Cell Phones &amp; Accessories, Cases, Basic Cases]]</td>\n",
       "      <td>Pink &amp; White 3D Melt Ice-Cream Skin Hard Case ...</td>\n",
       "    </tr>\n",
       "    <tr>\n",
       "      <th>1</th>\n",
       "      <td>011040047X</td>\n",
       "      <td>{'buy_after_viewing': ['B008RU7UL2', 'B00698LY...</td>\n",
       "      <td>Purple Hard Case Cover for Iphone 4 4s 4g with...</td>\n",
       "      <td>1.94</td>\n",
       "      <td>{'Cell Phones &amp; Accessories': 495795}</td>\n",
       "      <td>http://ecx.images-amazon.com/images/I/41WCZc2d...</td>\n",
       "      <td>NaN</td>\n",
       "      <td>[[Cell Phones &amp; Accessories, Cases, Basic Cases]]</td>\n",
       "      <td>Purple Hard Case Cover for iPhone 4 4S 4G With...</td>\n",
       "    </tr>\n",
       "    <tr>\n",
       "      <th>2</th>\n",
       "      <td>0195866479</td>\n",
       "      <td>{'buy_after_viewing': ['B00530RXP2', 'B004SH9B...</td>\n",
       "      <td>Hello Kitty Light-weighted Chrome Case Black C...</td>\n",
       "      <td>2.94</td>\n",
       "      <td>{'Cell Phones &amp; Accessories': 371302}</td>\n",
       "      <td>http://ecx.images-amazon.com/images/I/41fy1%2B...</td>\n",
       "      <td>NaN</td>\n",
       "      <td>[[Cell Phones &amp; Accessories, Cases, Basic Cases]]</td>\n",
       "      <td>Thin and light weighted,\\nCase's unique design...</td>\n",
       "    </tr>\n",
       "    <tr>\n",
       "      <th>3</th>\n",
       "      <td>0214514706</td>\n",
       "      <td>{'buy_after_viewing': ['B0042FV2SI', 'B00869D2...</td>\n",
       "      <td>Cool Summer Breeze in the Ocean Beach Collecti...</td>\n",
       "      <td>0.94</td>\n",
       "      <td>{'Cell Phones &amp; Accessories': 778100}</td>\n",
       "      <td>http://ecx.images-amazon.com/images/I/415cmp6Q...</td>\n",
       "      <td>NaN</td>\n",
       "      <td>[[Cell Phones &amp; Accessories, Cases, Basic Cases]]</td>\n",
       "      <td>Product Name:  Cool Summer Breeze In The Ocean...</td>\n",
       "    </tr>\n",
       "    <tr>\n",
       "      <th>4</th>\n",
       "      <td>0214714705</td>\n",
       "      <td>{'buy_after_viewing': ['B008EU7HRM', 'B00869D2...</td>\n",
       "      <td>Cool Summer Breeze In The Ocean Beach Collecti...</td>\n",
       "      <td>5.79</td>\n",
       "      <td>{'Cell Phones &amp; Accessories': 654894}</td>\n",
       "      <td>http://ecx.images-amazon.com/images/I/41XDwPt2...</td>\n",
       "      <td>NaN</td>\n",
       "      <td>[[Cell Phones &amp; Accessories, Cases, Basic Cases]]</td>\n",
       "      <td>Product Name:  Cool Summer Breeze In The Ocean...</td>\n",
       "    </tr>\n",
       "  </tbody>\n",
       "</table>\n",
       "</div>"
      ],
      "text/plain": [
       "         asin                                            related  \\\n",
       "0  0110400550  {'also_bought': ['B00C56IXFG', 'B008ZUQWOK', '...   \n",
       "1  011040047X  {'buy_after_viewing': ['B008RU7UL2', 'B00698LY...   \n",
       "2  0195866479  {'buy_after_viewing': ['B00530RXP2', 'B004SH9B...   \n",
       "3  0214514706  {'buy_after_viewing': ['B0042FV2SI', 'B00869D2...   \n",
       "4  0214714705  {'buy_after_viewing': ['B008EU7HRM', 'B00869D2...   \n",
       "\n",
       "                                               title  price  \\\n",
       "0  Pink &amp; White 3d Melt Ice-cream Skin Hard C...   3.33   \n",
       "1  Purple Hard Case Cover for Iphone 4 4s 4g with...   1.94   \n",
       "2  Hello Kitty Light-weighted Chrome Case Black C...   2.94   \n",
       "3  Cool Summer Breeze in the Ocean Beach Collecti...   0.94   \n",
       "4  Cool Summer Breeze In The Ocean Beach Collecti...   5.79   \n",
       "\n",
       "                               salesRank  \\\n",
       "0   {'Cell Phones & Accessories': 83460}   \n",
       "1  {'Cell Phones & Accessories': 495795}   \n",
       "2  {'Cell Phones & Accessories': 371302}   \n",
       "3  {'Cell Phones & Accessories': 778100}   \n",
       "4  {'Cell Phones & Accessories': 654894}   \n",
       "\n",
       "                                               imUrl brand  \\\n",
       "0  http://ecx.images-amazon.com/images/I/31zn6SOL...         \n",
       "1  http://ecx.images-amazon.com/images/I/41WCZc2d...   NaN   \n",
       "2  http://ecx.images-amazon.com/images/I/41fy1%2B...   NaN   \n",
       "3  http://ecx.images-amazon.com/images/I/415cmp6Q...   NaN   \n",
       "4  http://ecx.images-amazon.com/images/I/41XDwPt2...   NaN   \n",
       "\n",
       "                                          categories  \\\n",
       "0  [[Cell Phones & Accessories, Cases, Basic Cases]]   \n",
       "1  [[Cell Phones & Accessories, Cases, Basic Cases]]   \n",
       "2  [[Cell Phones & Accessories, Cases, Basic Cases]]   \n",
       "3  [[Cell Phones & Accessories, Cases, Basic Cases]]   \n",
       "4  [[Cell Phones & Accessories, Cases, Basic Cases]]   \n",
       "\n",
       "                                         description  \n",
       "0  Pink & White 3D Melt Ice-Cream Skin Hard Case ...  \n",
       "1  Purple Hard Case Cover for iPhone 4 4S 4G With...  \n",
       "2  Thin and light weighted,\\nCase's unique design...  \n",
       "3  Product Name:  Cool Summer Breeze In The Ocean...  \n",
       "4  Product Name:  Cool Summer Breeze In The Ocean...  "
      ]
     },
     "execution_count": 6,
     "metadata": {},
     "output_type": "execute_result"
    }
   ],
   "source": [
    "df_metadata.head()"
   ]
  },
  {
   "cell_type": "markdown",
   "metadata": {},
   "source": [
    "We can be able to view the names of all items present in the file, hence a new data frame is created."
   ]
  },
  {
   "cell_type": "code",
   "execution_count": 7,
   "metadata": {
    "collapsed": false
   },
   "outputs": [
    {
     "data": {
      "text/html": [
       "<div>\n",
       "<style>\n",
       "    .dataframe thead tr:only-child th {\n",
       "        text-align: right;\n",
       "    }\n",
       "\n",
       "    .dataframe thead th {\n",
       "        text-align: left;\n",
       "    }\n",
       "\n",
       "    .dataframe tbody tr th {\n",
       "        vertical-align: top;\n",
       "    }\n",
       "</style>\n",
       "<table border=\"1\" class=\"dataframe\">\n",
       "  <thead>\n",
       "    <tr style=\"text-align: right;\">\n",
       "      <th></th>\n",
       "      <th>asin</th>\n",
       "      <th>title</th>\n",
       "    </tr>\n",
       "  </thead>\n",
       "  <tbody>\n",
       "    <tr>\n",
       "      <th>0</th>\n",
       "      <td>0110400550</td>\n",
       "      <td>Pink &amp;amp; White 3d Melt Ice-cream Skin Hard C...</td>\n",
       "    </tr>\n",
       "    <tr>\n",
       "      <th>1</th>\n",
       "      <td>011040047X</td>\n",
       "      <td>Purple Hard Case Cover for Iphone 4 4s 4g with...</td>\n",
       "    </tr>\n",
       "    <tr>\n",
       "      <th>2</th>\n",
       "      <td>0195866479</td>\n",
       "      <td>Hello Kitty Light-weighted Chrome Case Black C...</td>\n",
       "    </tr>\n",
       "    <tr>\n",
       "      <th>3</th>\n",
       "      <td>0214514706</td>\n",
       "      <td>Cool Summer Breeze in the Ocean Beach Collecti...</td>\n",
       "    </tr>\n",
       "    <tr>\n",
       "      <th>4</th>\n",
       "      <td>0214714705</td>\n",
       "      <td>Cool Summer Breeze In The Ocean Beach Collecti...</td>\n",
       "    </tr>\n",
       "  </tbody>\n",
       "</table>\n",
       "</div>"
      ],
      "text/plain": [
       "         asin                                              title\n",
       "0  0110400550  Pink &amp; White 3d Melt Ice-cream Skin Hard C...\n",
       "1  011040047X  Purple Hard Case Cover for Iphone 4 4s 4g with...\n",
       "2  0195866479  Hello Kitty Light-weighted Chrome Case Black C...\n",
       "3  0214514706  Cool Summer Breeze in the Ocean Beach Collecti...\n",
       "4  0214714705  Cool Summer Breeze In The Ocean Beach Collecti..."
      ]
     },
     "execution_count": 7,
     "metadata": {},
     "output_type": "execute_result"
    }
   ],
   "source": [
    "df_item_names = df_metadata.loc[:,['asin','title']]\n",
    "df_item_names.head()"
   ]
  },
  {
   "cell_type": "code",
   "execution_count": 8,
   "metadata": {
    "collapsed": false
   },
   "outputs": [
    {
     "data": {
      "text/html": [
       "<div>\n",
       "<style>\n",
       "    .dataframe thead tr:only-child th {\n",
       "        text-align: right;\n",
       "    }\n",
       "\n",
       "    .dataframe thead th {\n",
       "        text-align: left;\n",
       "    }\n",
       "\n",
       "    .dataframe tbody tr th {\n",
       "        vertical-align: top;\n",
       "    }\n",
       "</style>\n",
       "<table border=\"1\" class=\"dataframe\">\n",
       "  <thead>\n",
       "    <tr style=\"text-align: right;\">\n",
       "      <th></th>\n",
       "      <th>title</th>\n",
       "    </tr>\n",
       "  </thead>\n",
       "  <tbody>\n",
       "    <tr>\n",
       "      <th>104895</th>\n",
       "      <td>Otterbox Defender Series Hybrid Case &amp;amp; Hol...</td>\n",
       "    </tr>\n",
       "  </tbody>\n",
       "</table>\n",
       "</div>"
      ],
      "text/plain": [
       "                                                    title\n",
       "104895  Otterbox Defender Series Hybrid Case &amp; Hol..."
      ]
     },
     "execution_count": 8,
     "metadata": {},
     "output_type": "execute_result"
    }
   ],
   "source": [
    "df_item_names.loc[df_item_names.asin.isin(['B005SUHPO6']),['title']]"
   ]
  },
  {
   "cell_type": "code",
   "execution_count": null,
   "metadata": {
    "collapsed": true
   },
   "outputs": [],
   "source": []
  },
  {
   "cell_type": "code",
   "execution_count": 9,
   "metadata": {
    "collapsed": true
   },
   "outputs": [],
   "source": [
    "def df_item(asin):\n",
    "    '''This function intakes an item ID or asin and returns the data frame of all the reviews of that item.'''\n",
    "    reviewed_item = df_reviews.loc[df_reviews.asin.isin([asin]),['reviewText']]\n",
    "    return reviewed_item"
   ]
  },
  {
   "cell_type": "code",
   "execution_count": null,
   "metadata": {
    "collapsed": true
   },
   "outputs": [],
   "source": []
  },
  {
   "cell_type": "markdown",
   "metadata": {},
   "source": [
    "### Functions to Extract Nouns\n",
    "    By using the pos tagger in the NLTK we can extract the nouns from a given sentence/ review."
   ]
  },
  {
   "cell_type": "code",
   "execution_count": 10,
   "metadata": {
    "collapsed": true
   },
   "outputs": [],
   "source": [
    "import nltk as nt\n",
    "noun_tags = [\"NN\",\"NNP\",\"NNS\",\"POS\",\"WP\"] #\"PRP$\" , \"PRP\", removing proper nouns"
   ]
  },
  {
   "cell_type": "code",
   "execution_count": 11,
   "metadata": {
    "collapsed": true
   },
   "outputs": [],
   "source": [
    "def tags(sentence):\n",
    "    '''Takes a sentence and returns an array of tags'''\n",
    "    array_words = nt.word_tokenize(sentence)\n",
    "    tags = nt.pos_tag(array_words)\n",
    "    return tags"
   ]
  },
  {
   "cell_type": "code",
   "execution_count": 12,
   "metadata": {
    "collapsed": true
   },
   "outputs": [],
   "source": [
    "def noun_words(review):\n",
    "    '''Takes an array of sentence and returns a numpy array of nouns for each sentence'''\n",
    "    nouns =[];\n",
    "    all_tuples = tags(review)\n",
    "    for one in all_tuples:\n",
    "        for each in noun_tags:\n",
    "            if(each == one[1]):\n",
    "                nouns.append(one[0])\n",
    "    return nouns"
   ]
  },
  {
   "cell_type": "code",
   "execution_count": 13,
   "metadata": {
    "collapsed": true
   },
   "outputs": [],
   "source": [
    "def nouns_only(corpus):\n",
    "    '''This takes an array of sentences and returns a numpy array of nouns for each sentence'''\n",
    "    total_nouns = []\n",
    "    for each in corpus:\n",
    "        total_nouns.append(noun_words(each))\n",
    "    return total_nouns"
   ]
  },
  {
   "cell_type": "markdown",
   "metadata": {},
   "source": [
    "## Creating Lda Model using GENSIM\n",
    "\n",
    "This piece of code creates a document term matrix that can further be used to build LDA models.\n",
    "\n",
    "Testing for complete reviews on the same item."
   ]
  },
  {
   "cell_type": "code",
   "execution_count": 14,
   "metadata": {
    "collapsed": false
   },
   "outputs": [
    {
     "name": "stderr",
     "output_type": "stream",
     "text": [
      "C:\\Users\\maruv\\Anaconda3\\lib\\site-packages\\gensim\\utils.py:865: UserWarning: detected Windows; aliasing chunkize to chunkize_serial\n",
      "  warnings.warn(\"detected Windows; aliasing chunkize to chunkize_serial\")\n",
      "Using TensorFlow backend.\n"
     ]
    }
   ],
   "source": [
    "import gensim\n",
    "from gensim import corpora\n",
    "\n",
    "def lda_model(noun_array,n,k):\n",
    "    '''This takes in a numpy array of nounsnumber of topics and number of words in each topic and returns the ldamodel. \n",
    "        Number of passes is hardcoded to 50'''\n",
    "    # Creating the term dictionary of our corpus, where every unique term is assigned an index. \n",
    "    dictionary = corpora.Dictionary(noun_array)\n",
    "    # Converting list of documents (corpus) into Document Term Matrix using dictionary prepared above.\n",
    "    doc_term_matrix = [dictionary.doc2bow(each) for each in noun_array]\n",
    "    # Creating the object for LDA model using gensim library\n",
    "    Lda = gensim.models.ldamodel.LdaModel\n",
    "    # Running and Trainign LDA model on the document term matrix.\n",
    "    ldamodel = Lda(doc_term_matrix, num_topics=n, id2word = dictionary, passes=50)\n",
    "    \n",
    "    return ldamodel"
   ]
  },
  {
   "cell_type": "markdown",
   "metadata": {},
   "source": [
    "Forming a new data frame for the reviews of a selected items"
   ]
  },
  {
   "cell_type": "code",
   "execution_count": 15,
   "metadata": {
    "collapsed": true
   },
   "outputs": [],
   "source": [
    "'''Creating a dataframe of items with required item reviews'''\n",
    "reviewed_item = df_item('B005SUHPO6')\n",
    "final_corp = reviewed_item['reviewText']"
   ]
  },
  {
   "cell_type": "code",
   "execution_count": 16,
   "metadata": {
    "collapsed": false
   },
   "outputs": [
    {
     "data": {
      "text/plain": [
       "59707    excellent product at 1/2 the price as sale at ...\n",
       "59708    Sometimes the flap over the charging place is ...\n",
       "59709    Great case.  Fits like every other Otterbox De...\n",
       "59710    Use these for our technicians and anyone that ...\n",
       "59711    It's very strong and protects my 4S phone! I t...\n",
       "Name: reviewText, dtype: object"
      ]
     },
     "execution_count": 16,
     "metadata": {},
     "output_type": "execute_result"
    }
   ],
   "source": [
    "final_corp.head()"
   ]
  },
  {
   "cell_type": "markdown",
   "metadata": {},
   "source": [
    "## Extracting only Nouns and various forms of nouns\n",
    "Nouns were extracted, and proper nouns are not considered (I,we , them, they, etc)"
   ]
  },
  {
   "cell_type": "code",
   "execution_count": 17,
   "metadata": {
    "collapsed": false
   },
   "outputs": [
    {
     "data": {
      "text/plain": [
       "837"
      ]
     },
     "execution_count": 17,
     "metadata": {},
     "output_type": "execute_result"
    }
   ],
   "source": [
    "total_nouns = nouns_only(final_corp)\n",
    "len(total_nouns) #This gives the frequency of the reviews"
   ]
  },
  {
   "cell_type": "code",
   "execution_count": 18,
   "metadata": {
    "collapsed": false
   },
   "outputs": [],
   "source": [
    "first_model = lda_model(total_nouns,5,3)"
   ]
  },
  {
   "cell_type": "code",
   "execution_count": 19,
   "metadata": {
    "collapsed": false
   },
   "outputs": [],
   "source": [
    "a =first_model.print_topics(num_topics=5, num_words=3)"
   ]
  },
  {
   "cell_type": "code",
   "execution_count": 20,
   "metadata": {
    "collapsed": false
   },
   "outputs": [
    {
     "data": {
      "text/plain": [
       "[(0, '0.118*\"case\" + 0.052*\"phone\" + 0.021*\"screen\"'),\n",
       " (1, '0.087*\"phone\" + 0.054*\"case\" + 0.031*\"iPhone\"'),\n",
       " (2, '0.035*\"case\" + 0.033*\"Otterbox\" + 0.027*\"phone\"'),\n",
       " (3, '0.058*\"case\" + 0.023*\"phone\" + 0.015*\"iPhone\"'),\n",
       " (4, '0.040*\"i\" + 0.031*\"product\" + 0.016*\"box\"')]"
      ]
     },
     "execution_count": 20,
     "metadata": {},
     "output_type": "execute_result"
    }
   ],
   "source": [
    "a"
   ]
  },
  {
   "cell_type": "markdown",
   "metadata": {},
   "source": [
    "### Documenting the results for knowing the optimum number of reviews:\n",
    "    Now we would run the topic modelling on different number of reviews for the same item and define the optimum percentage of reviews that needs to be sent to obtain the best accurate results."
   ]
  },
  {
   "cell_type": "code",
   "execution_count": 21,
   "metadata": {
    "collapsed": true
   },
   "outputs": [],
   "source": [
    "def results_array(asin,k,l):\n",
    "    '''Takes arguments: ASIN, number of topics, number of words in each topic.\n",
    "    returns an array of number of reviews ans corresponding topics for each iteration.'''\n",
    "    results = [[],[]]\n",
    "    reviewed_item = df_item(asin)\n",
    "    final_corp = reviewed_item['reviewText']\n",
    "    print(final_corp.head())\n",
    "    total_nouns = nouns_only(final_corp)\n",
    "    print('\\ntotal reviews for this item : ',len(total_nouns))\n",
    "    \n",
    "    percent = [0.1,0.2,0.3,0.4,0.5,0.6,0.7,0.8,0.9,1]\n",
    "    val = [round(i * len(total_nouns)) for i in percent]\n",
    "\n",
    "    for each in val:\n",
    "        a = None\n",
    "        model = lda_model(total_nouns[:each],k,l)\n",
    "        a = model.print_topics(num_topics=k, num_words=l)\n",
    "        results[0].append(each),results[1].append(a)\n",
    "    \n",
    "    return results"
   ]
  },
  {
   "cell_type": "code",
   "execution_count": 22,
   "metadata": {
    "collapsed": false
   },
   "outputs": [
    {
     "name": "stdout",
     "output_type": "stream",
     "text": [
      "Help on function results_array in module __main__:\n",
      "\n",
      "results_array(asin, k, l)\n",
      "    Takes arguments: ASIN, number of topics, number of words in each topic.\n",
      "    returns an array of number of reviews ans corresponding topics for each iteration.\n",
      "\n"
     ]
    }
   ],
   "source": [
    "help(results_array)"
   ]
  },
  {
   "cell_type": "code",
   "execution_count": 23,
   "metadata": {
    "collapsed": false
   },
   "outputs": [
    {
     "name": "stdout",
     "output_type": "stream",
     "text": [
      "59707    excellent product at 1/2 the price as sale at ...\n",
      "59708    Sometimes the flap over the charging place is ...\n",
      "59709    Great case.  Fits like every other Otterbox De...\n",
      "59710    Use these for our technicians and anyone that ...\n",
      "59711    It's very strong and protects my 4S phone! I t...\n",
      "Name: reviewText, dtype: object\n",
      "\n",
      "total reviews for this item :  837\n"
     ]
    },
    {
     "data": {
      "text/plain": [
       "[[84, 167, 251, 335, 418, 502, 586, 670, 753, 837],\n",
       " [[(0, '0.062*\"case\" + 0.059*\"phone\"'),\n",
       "   (1, '0.108*\"case\" + 0.041*\"phone\"'),\n",
       "   (2, '0.033*\"phone\" + 0.023*\"Iphone\"'),\n",
       "   (3, '0.027*\"phone\" + 0.024*\"case\"')],\n",
       "  [(0, '0.104*\"case\" + 0.052*\"phone\"'),\n",
       "   (1, '0.052*\"phone\" + 0.031*\"case\"'),\n",
       "   (2, '0.031*\"case\" + 0.015*\"Otterbox\"'),\n",
       "   (3, '0.057*\"case\" + 0.049*\"phone\"')],\n",
       "  [(0, '0.067*\"phone\" + 0.053*\"case\"'),\n",
       "   (1, '0.044*\"phone\" + 0.029*\"case\"'),\n",
       "   (2, '0.098*\"case\" + 0.037*\"phone\"'),\n",
       "   (3, '0.055*\"case\" + 0.041*\"phone\"')],\n",
       "  [(0, '0.014*\"daughter\" + 0.013*\"Amazon\"'),\n",
       "   (1, '0.023*\"case\" + 0.020*\"product\"'),\n",
       "   (2, '0.010*\"plastic\" + 0.010*\"thing\"'),\n",
       "   (3, '0.097*\"case\" + 0.066*\"phone\"')],\n",
       "  [(0, '0.058*\"phone\" + 0.053*\"case\"'),\n",
       "   (1, '0.086*\"case\" + 0.052*\"phone\"'),\n",
       "   (2, '0.072*\"case\" + 0.032*\"phone\"'),\n",
       "   (3, '0.047*\"case\" + 0.043*\"phone\"')],\n",
       "  [(0, '0.100*\"case\" + 0.055*\"phone\"'),\n",
       "   (1, '0.051*\"case\" + 0.033*\"phone\"'),\n",
       "   (2, '0.071*\"case\" + 0.052*\"phone\"'),\n",
       "   (3, '0.030*\"phone\" + 0.018*\"case\"')],\n",
       "  [(0, '0.071*\"case\" + 0.035*\"phone\"'),\n",
       "   (1, '0.071*\"case\" + 0.031*\"phone\"'),\n",
       "   (2, '0.077*\"phone\" + 0.076*\"case\"'),\n",
       "   (3, '0.053*\"case\" + 0.047*\"phone\"')],\n",
       "  [(0, '0.089*\"case\" + 0.057*\"phone\"'),\n",
       "   (1, '0.071*\"case\" + 0.065*\"phone\"'),\n",
       "   (2, '0.011*\"belt\" + 0.011*\"clip\"'),\n",
       "   (3, '0.053*\"case\" + 0.027*\"iPhone\"')],\n",
       "  [(0, '0.101*\"case\" + 0.073*\"phone\"'),\n",
       "   (1, '0.060*\"case\" + 0.047*\"phone\"'),\n",
       "   (2, '0.044*\"phone\" + 0.038*\"case\"'),\n",
       "   (3, '0.047*\"case\" + 0.029*\"phone\"')],\n",
       "  [(0, '0.090*\"case\" + 0.074*\"phone\"'),\n",
       "   (1, '0.064*\"case\" + 0.059*\"phone\"'),\n",
       "   (2, '0.072*\"case\" + 0.028*\"screen\"'),\n",
       "   (3, '0.048*\"phone\" + 0.042*\"case\"')]]]"
      ]
     },
     "execution_count": 23,
     "metadata": {},
     "output_type": "execute_result"
    }
   ],
   "source": [
    "results_array('B005SUHPO6',4,2) #Most generalized"
   ]
  },
  {
   "cell_type": "code",
   "execution_count": 24,
   "metadata": {
    "collapsed": false
   },
   "outputs": [
    {
     "name": "stdout",
     "output_type": "stream",
     "text": [
      "59707    excellent product at 1/2 the price as sale at ...\n",
      "59708    Sometimes the flap over the charging place is ...\n",
      "59709    Great case.  Fits like every other Otterbox De...\n",
      "59710    Use these for our technicians and anyone that ...\n",
      "59711    It's very strong and protects my 4S phone! I t...\n",
      "Name: reviewText, dtype: object\n",
      "\n",
      "total reviews for this item :  837\n"
     ]
    },
    {
     "data": {
      "text/plain": [
       "[[84, 167, 251, 335, 418, 502, 586, 670, 753, 837],\n",
       " [[(0, '0.039*\"case\" + 0.038*\"phone\" + 0.022*\"product\"'),\n",
       "   (1, '0.090*\"case\" + 0.054*\"phone\" + 0.021*\"screen\"'),\n",
       "   (2, '0.038*\"phone\" + 0.029*\"case\" + 0.021*\"Iphone\"')],\n",
       "  [(0, '0.026*\"case\" + 0.022*\"phone\" + 0.015*\"box\"'),\n",
       "   (1, '0.090*\"case\" + 0.038*\"phone\" + 0.021*\"iPhone\"'),\n",
       "   (2, '0.070*\"case\" + 0.067*\"phone\" + 0.017*\"Otterbox\"')],\n",
       "  [(0, '0.019*\"phone\" + 0.013*\"Iphone\" + 0.011*\"what\"'),\n",
       "   (1, '0.083*\"phone\" + 0.077*\"case\" + 0.016*\"screen\"'),\n",
       "   (2, '0.082*\"case\" + 0.022*\"iPhone\" + 0.020*\"Otterbox\"')],\n",
       "  [(0, '0.103*\"case\" + 0.053*\"phone\" + 0.018*\"iPhone\"'),\n",
       "   (1, '0.035*\"phone\" + 0.035*\"case\" + 0.022*\"Otterbox\"'),\n",
       "   (2, '0.058*\"case\" + 0.048*\"phone\" + 0.013*\"protection\"')],\n",
       "  [(0, '0.099*\"case\" + 0.048*\"phone\" + 0.018*\"screen\"'),\n",
       "   (1, '0.059*\"case\" + 0.058*\"phone\" + 0.016*\"iPhone\"'),\n",
       "   (2, '0.039*\"case\" + 0.026*\"iPhone\" + 0.022*\"phone\"')],\n",
       "  [(0, '0.022*\"Otterbox\" + 0.018*\"product\" + 0.014*\"color\"'),\n",
       "   (1, '0.098*\"case\" + 0.065*\"phone\" + 0.021*\"iPhone\"'),\n",
       "   (2, '0.012*\"plastic\" + 0.011*\"Otterbox\" + 0.008*\"cell\"')],\n",
       "  [(0, '0.102*\"case\" + 0.067*\"phone\" + 0.019*\"iPhone\"'),\n",
       "   (1, '0.015*\"Otterbox\" + 0.013*\"i\" + 0.010*\"color\"'),\n",
       "   (2, '0.035*\"case\" + 0.030*\"phone\" + 0.022*\"iPhone\"')],\n",
       "  [(0, '0.090*\"case\" + 0.066*\"phone\" + 0.013*\"protection\"'),\n",
       "   (1, '0.016*\"phone\" + 0.011*\"Otterbox\" + 0.010*\"i\"'),\n",
       "   (2, '0.067*\"case\" + 0.038*\"phone\" + 0.033*\"iPhone\"')],\n",
       "  [(0, '0.098*\"case\" + 0.055*\"phone\" + 0.020*\"protection\"'),\n",
       "   (1, '0.045*\"case\" + 0.040*\"phone\" + 0.026*\"iPhone\"'),\n",
       "   (2, '0.059*\"phone\" + 0.055*\"case\" + 0.025*\"Otterbox\"')],\n",
       "  [(0, '0.073*\"case\" + 0.062*\"phone\" + 0.027*\"iPhone\"'),\n",
       "   (1, '0.082*\"case\" + 0.050*\"phone\" + 0.017*\"rubber\"'),\n",
       "   (2, '0.021*\"phone\" + 0.019*\"Otterbox\" + 0.017*\"daughter\"')]]]"
      ]
     },
     "execution_count": 24,
     "metadata": {},
     "output_type": "execute_result"
    }
   ],
   "source": [
    "results_array('B005SUHPO6',3,3)  #moderate results"
   ]
  },
  {
   "cell_type": "code",
   "execution_count": 25,
   "metadata": {
    "collapsed": false
   },
   "outputs": [
    {
     "name": "stdout",
     "output_type": "stream",
     "text": [
      "59707    excellent product at 1/2 the price as sale at ...\n",
      "59708    Sometimes the flap over the charging place is ...\n",
      "59709    Great case.  Fits like every other Otterbox De...\n",
      "59710    Use these for our technicians and anyone that ...\n",
      "59711    It's very strong and protects my 4S phone! I t...\n",
      "Name: reviewText, dtype: object\n",
      "\n",
      "total reviews for this item :  837\n"
     ]
    },
    {
     "data": {
      "text/plain": [
       "[[84, 167, 251, 335, 418, 502, 586, 670, 753, 837],\n",
       " [[(0, '0.067*\"phone\" + 0.049*\"case\" + 0.017*\"protection\"'),\n",
       "   (1, '0.020*\"thing\" + 0.019*\"Otterbox\" + 0.015*\"product\"'),\n",
       "   (2, '0.054*\"case\" + 0.054*\"phone\" + 0.016*\"product\"'),\n",
       "   (3, '0.100*\"case\" + 0.042*\"phone\" + 0.021*\"screen\"')],\n",
       "  [(0, '0.061*\"case\" + 0.040*\"phone\" + 0.023*\"iPhone\"'),\n",
       "   (1, '0.075*\"case\" + 0.040*\"phone\" + 0.017*\"protection\"'),\n",
       "   (2, '0.100*\"case\" + 0.044*\"phone\" + 0.017*\"screen\"'),\n",
       "   (3, '0.068*\"phone\" + 0.017*\"case\" + 0.013*\"box\"')],\n",
       "  [(0, '0.100*\"case\" + 0.047*\"phone\" + 0.022*\"screen\"'),\n",
       "   (1, '0.075*\"phone\" + 0.069*\"case\" + 0.017*\"iPhone\"'),\n",
       "   (2, '0.031*\"phone\" + 0.022*\"case\" + 0.020*\"iPhone\"'),\n",
       "   (3, '0.024*\"case\" + 0.019*\"product\" + 0.012*\"time\"')],\n",
       "  [(0, '0.111*\"case\" + 0.063*\"phone\" + 0.020*\"iPhone\"'),\n",
       "   (1, '0.028*\"phone\" + 0.024*\"case\" + 0.022*\"Otterbox\"'),\n",
       "   (2, '0.024*\"Iphone\" + 0.009*\"rubber\" + 0.009*\"product\"'),\n",
       "   (3, '0.040*\"phone\" + 0.021*\"case\" + 0.021*\"product\"')],\n",
       "  [(0, '0.014*\"Iphone\" + 0.013*\"thing\" + 0.012*\"case\"'),\n",
       "   (1, '0.041*\"case\" + 0.024*\"phone\" + 0.017*\"product\"'),\n",
       "   (2, '0.053*\"case\" + 0.053*\"phone\" + 0.023*\"Otterbox\"'),\n",
       "   (3, '0.104*\"case\" + 0.064*\"phone\" + 0.025*\"iPhone\"')],\n",
       "  [(0, '0.079*\"case\" + 0.070*\"phone\" + 0.022*\"iPhone\"'),\n",
       "   (1, '0.013*\"plastic\" + 0.008*\"AND\" + 0.007*\"thing\"'),\n",
       "   (2, '0.090*\"case\" + 0.026*\"screen\" + 0.025*\"phone\"'),\n",
       "   (3, '0.023*\"case\" + 0.018*\"Iphone\" + 0.014*\"box\"')],\n",
       "  [(0, '0.029*\"Otterbox\" + 0.017*\"phone\" + 0.016*\"case\"'),\n",
       "   (1, '0.035*\"price\" + 0.022*\"product\" + 0.015*\"Otterbox\"'),\n",
       "   (2, '0.063*\"phone\" + 0.045*\"case\" + 0.015*\"otterbox\"'),\n",
       "   (3, '0.108*\"case\" + 0.060*\"phone\" + 0.028*\"iPhone\"')],\n",
       "  [(0, '0.061*\"case\" + 0.015*\"Otterbox\" + 0.014*\"plastic\"'),\n",
       "   (1, '0.066*\"case\" + 0.034*\"phone\" + 0.019*\"rubber\"'),\n",
       "   (2, '0.040*\"phone\" + 0.034*\"case\" + 0.033*\"Otterbox\"'),\n",
       "   (3, '0.100*\"case\" + 0.079*\"phone\" + 0.020*\"screen\"')],\n",
       "  [(0, '0.091*\"case\" + 0.036*\"phone\" + 0.027*\"iPhone\"'),\n",
       "   (1, '0.042*\"case\" + 0.029*\"phone\" + 0.022*\"Otterbox\"'),\n",
       "   (2, '0.015*\"iphone\" + 0.013*\"cases\" + 0.013*\"Otterbox\"'),\n",
       "   (3, '0.078*\"phone\" + 0.075*\"case\" + 0.022*\"screen\"')],\n",
       "  [(0, '0.045*\"case\" + 0.041*\"phone\" + 0.027*\"iPhone\"'),\n",
       "   (1, '0.093*\"case\" + 0.056*\"phone\" + 0.024*\"iPhone\"'),\n",
       "   (2, '0.073*\"phone\" + 0.044*\"case\" + 0.016*\"protection\"'),\n",
       "   (3, '0.020*\"box\" + 0.017*\"phone\" + 0.017*\"rubber\"')]]]"
      ]
     },
     "execution_count": 25,
     "metadata": {},
     "output_type": "execute_result"
    }
   ],
   "source": [
    "results_array('B005SUHPO6',4,3) #70%"
   ]
  },
  {
   "cell_type": "code",
   "execution_count": 26,
   "metadata": {
    "collapsed": false
   },
   "outputs": [
    {
     "name": "stdout",
     "output_type": "stream",
     "text": [
      "59707    excellent product at 1/2 the price as sale at ...\n",
      "59708    Sometimes the flap over the charging place is ...\n",
      "59709    Great case.  Fits like every other Otterbox De...\n",
      "59710    Use these for our technicians and anyone that ...\n",
      "59711    It's very strong and protects my 4S phone! I t...\n",
      "Name: reviewText, dtype: object\n",
      "\n",
      "total reviews for this item :  837\n"
     ]
    },
    {
     "data": {
      "text/plain": [
       "[[84, 167, 251, 335, 418, 502, 586, 670, 753, 837],\n",
       " [[(0, '0.067*\"case\" + 0.040*\"phone\" + 0.020*\"Otterbox\" + 0.017*\"protection\"'),\n",
       "   (1, '0.083*\"case\" + 0.058*\"phone\" + 0.024*\"Defender\" + 0.021*\"Otterbox\"'),\n",
       "   (2, '0.039*\"phone\" + 0.036*\"case\" + 0.017*\"protection\" + 0.017*\"iphone\"'),\n",
       "   (3, '0.035*\"phone\" + 0.030*\"case\" + 0.010*\"Box\" + 0.010*\"Iphone\"')],\n",
       "  [(0, '0.010*\"box\" + 0.010*\"flap\" + 0.010*\"anything\" + 0.007*\"thing\"'),\n",
       "   (1, '0.088*\"case\" + 0.047*\"phone\" + 0.024*\"screen\" + 0.017*\"iPhone\"'),\n",
       "   (2, '0.082*\"case\" + 0.061*\"phone\" + 0.021*\"protection\" + 0.019*\"iPhone\"'),\n",
       "   (3, '0.042*\"case\" + 0.035*\"phone\" + 0.016*\"product\" + 0.013*\"order\"')],\n",
       "  [(0, '0.097*\"case\" + 0.050*\"phone\" + 0.023*\"screen\" + 0.016*\"iPhone\"'),\n",
       "   (1, '0.054*\"case\" + 0.036*\"phone\" + 0.020*\"iPhone\" + 0.019*\"Otterbox\"'),\n",
       "   (2, '0.058*\"phone\" + 0.046*\"case\" + 0.024*\"protection\" + 0.020*\"product\"'),\n",
       "   (3, '0.038*\"case\" + 0.035*\"phone\" + 0.009*\"color\" + 0.007*\"iPhone\"')],\n",
       "  [(0, '0.064*\"case\" + 0.031*\"phone\" + 0.029*\"iPhone\" + 0.013*\"screen\"'),\n",
       "   (1, '0.020*\"phone\" + 0.012*\"screen\" + 0.011*\"what\" + 0.010*\"box\"'),\n",
       "   (2, '0.076*\"phone\" + 0.072*\"case\" + 0.019*\"product\" + 0.018*\"protection\"'),\n",
       "   (3, '0.087*\"case\" + 0.045*\"phone\" + 0.020*\"Otterbox\" + 0.018*\"screen\"')],\n",
       "  [(0, '0.064*\"phone\" + 0.041*\"case\" + 0.025*\"iPhone\" + 0.022*\"protection\"'),\n",
       "   (1, '0.033*\"Otterbox\" + 0.009*\"mine\" + 0.008*\"customer\" + 0.008*\"iPhone\"'),\n",
       "   (2, '0.106*\"case\" + 0.053*\"phone\" + 0.022*\"screen\" + 0.017*\"iPhone\"'),\n",
       "   (3, '0.018*\"product\" + 0.016*\"color\" + 0.016*\"Iphone\" + 0.010*\"price\"')],\n",
       "  [(0, '0.095*\"case\" + 0.029*\"phone\" + 0.019*\"iPhone\" + 0.016*\"Otterbox\"'),\n",
       "   (1, '0.043*\"phone\" + 0.034*\"case\" + 0.026*\"iPhone\" + 0.022*\"product\"'),\n",
       "   (2, '0.071*\"phone\" + 0.066*\"case\" + 0.020*\"protection\" + 0.014*\"time\"'),\n",
       "   (3, '0.064*\"case\" + 0.044*\"phone\" + 0.022*\"screen\" + 0.012*\"protector\"')],\n",
       "  [(0, '0.084*\"case\" + 0.024*\"phone\" + 0.013*\"iPhone\" + 0.012*\"Defender\"'),\n",
       "   (1, '0.064*\"case\" + 0.045*\"phone\" + 0.019*\"Otterbox\" + 0.017*\"protection\"'),\n",
       "   (2, '0.024*\"Otterbox\" + 0.020*\"iPhone\" + 0.012*\"OtterBox\" + 0.012*\"phone\"'),\n",
       "   (3, '0.082*\"case\" + 0.077*\"phone\" + 0.024*\"iPhone\" + 0.017*\"screen\"')],\n",
       "  [(0, '0.069*\"phone\" + 0.055*\"case\" + 0.027*\"iPhone\" + 0.016*\"product\"'),\n",
       "   (1, '0.112*\"case\" + 0.053*\"phone\" + 0.023*\"screen\" + 0.017*\"protection\"'),\n",
       "   (2, '0.030*\"phone\" + 0.022*\"price\" + 0.022*\"case\" + 0.015*\"protection\"'),\n",
       "   (3,\n",
       "    '0.045*\"case\" + 0.038*\"Otterbox\" + 0.034*\"phone\" + 0.018*\"protection\"')],\n",
       "  [(0, '0.049*\"phone\" + 0.018*\"i\" + 0.015*\"iPhone\" + 0.011*\"OtterBox\"'),\n",
       "   (1, '0.021*\"Otterbox\" + 0.007*\"thing\" + 0.007*\"pocket\" + 0.007*\"Amazon\"'),\n",
       "   (2, '0.104*\"case\" + 0.051*\"phone\" + 0.028*\"iPhone\" + 0.019*\"screen\"'),\n",
       "   (3, '0.069*\"phone\" + 0.046*\"case\" + 0.018*\"Otterbox\" + 0.017*\"rubber\"')],\n",
       "  [(0, '0.107*\"case\" + 0.067*\"phone\" + 0.025*\"iPhone\" + 0.017*\"screen\"'),\n",
       "   (1, '0.041*\"phone\" + 0.034*\"i\" + 0.013*\"otterbox\" + 0.010*\"price\"'),\n",
       "   (2, '0.015*\"box\" + 0.013*\"phone\" + 0.012*\"Iphone\" + 0.011*\"otter\"'),\n",
       "   (3,\n",
       "    '0.035*\"phone\" + 0.034*\"product\" + 0.019*\"rubber\" + 0.018*\"Otterbox\"')]]]"
      ]
     },
     "execution_count": 26,
     "metadata": {},
     "output_type": "execute_result"
    }
   ],
   "source": [
    "results_array('B005SUHPO6',4,4) #70%"
   ]
  },
  {
   "cell_type": "code",
   "execution_count": 27,
   "metadata": {
    "collapsed": true
   },
   "outputs": [
    {
     "name": "stdout",
     "output_type": "stream",
     "text": [
      "59707    excellent product at 1/2 the price as sale at ...\n",
      "59708    Sometimes the flap over the charging place is ...\n",
      "59709    Great case.  Fits like every other Otterbox De...\n",
      "59710    Use these for our technicians and anyone that ...\n",
      "59711    It's very strong and protects my 4S phone! I t...\n",
      "Name: reviewText, dtype: object\n",
      "\n",
      "total reviews for this item :  837\n"
     ]
    },
    {
     "data": {
      "text/plain": [
       "[[84, 167, 251, 335, 418, 502, 586, 670, 753, 837],\n",
       " [[(0,\n",
       "    '0.060*\"phone\" + 0.022*\"case\" + 0.014*\"box\" + 0.014*\"otter\" + 0.014*\"product\"'),\n",
       "   (1,\n",
       "    '0.045*\"phone\" + 0.037*\"case\" + 0.019*\"product\" + 0.017*\"Otterbox\" + 0.014*\"screen\"'),\n",
       "   (2,\n",
       "    '0.100*\"case\" + 0.052*\"phone\" + 0.021*\"screen\" + 0.019*\"iPhone\" + 0.019*\"Otterbox\"'),\n",
       "   (3,\n",
       "    '0.016*\"protection\" + 0.015*\"quality\" + 0.012*\"case\" + 0.010*\"flap\" + 0.010*\"durability\"')],\n",
       "  [(0,\n",
       "    '0.098*\"case\" + 0.065*\"phone\" + 0.019*\"protection\" + 0.017*\"Otterbox\" + 0.016*\"iPhone\"'),\n",
       "   (1,\n",
       "    '0.081*\"case\" + 0.041*\"phone\" + 0.020*\"screen\" + 0.018*\"iPhone\" + 0.013*\"plastic\"'),\n",
       "   (2,\n",
       "    '0.019*\"Otterbox\" + 0.012*\"one\" + 0.011*\"way\" + 0.011*\"otter\" + 0.011*\"colors\"'),\n",
       "   (3,\n",
       "    '0.036*\"case\" + 0.031*\"phone\" + 0.018*\"clip\" + 0.014*\"Defender\" + 0.014*\"belt\"')],\n",
       "  [(0,\n",
       "    '0.062*\"phone\" + 0.061*\"case\" + 0.021*\"screen\" + 0.016*\"iPhone\" + 0.015*\"product\"'),\n",
       "   (1,\n",
       "    '0.036*\"phone\" + 0.027*\"case\" + 0.017*\"product\" + 0.011*\"protection\" + 0.010*\"cover\"'),\n",
       "   (2,\n",
       "    '0.022*\"phone\" + 0.019*\"Iphone\" + 0.017*\"price\" + 0.016*\"cases\" + 0.013*\"order\"'),\n",
       "   (3,\n",
       "    '0.107*\"case\" + 0.046*\"phone\" + 0.022*\"iPhone\" + 0.020*\"Otterbox\" + 0.013*\"protection\"')],\n",
       "  [(0,\n",
       "    '0.032*\"case\" + 0.019*\"iPhone\" + 0.018*\"product\" + 0.017*\"screen\" + 0.013*\"protection\"'),\n",
       "   (1,\n",
       "    '0.013*\"blah\" + 0.008*\"MY\" + 0.008*\"PHONE\" + 0.008*\"AND\" + 0.007*\"pocket\"'),\n",
       "   (2,\n",
       "    '0.072*\"phone\" + 0.046*\"case\" + 0.024*\"product\" + 0.019*\"Otterbox\" + 0.012*\"price\"'),\n",
       "   (3,\n",
       "    '0.101*\"case\" + 0.054*\"phone\" + 0.021*\"iPhone\" + 0.017*\"screen\" + 0.017*\"Otterbox\"')],\n",
       "  [(0,\n",
       "    '0.077*\"case\" + 0.066*\"phone\" + 0.024*\"iPhone\" + 0.017*\"Otterbox\" + 0.017*\"screen\"'),\n",
       "   (1,\n",
       "    '0.009*\"AND\" + 0.008*\"customer\" + 0.007*\"service\" + 0.007*\"Otterbox\" + 0.007*\"problem\"'),\n",
       "   (2,\n",
       "    '0.043*\"case\" + 0.025*\"phone\" + 0.015*\"time\" + 0.014*\"protection\" + 0.012*\"holster\"'),\n",
       "   (3,\n",
       "    '0.096*\"case\" + 0.022*\"phone\" + 0.016*\"screen\" + 0.015*\"wife\" + 0.011*\"iPhone\"')],\n",
       "  [(0,\n",
       "    '0.070*\"case\" + 0.026*\"phone\" + 0.021*\"protection\" + 0.019*\"Otterbox\" + 0.018*\"product\"'),\n",
       "   (1,\n",
       "    '0.011*\"product\" + 0.008*\"box\" + 0.007*\"lot\" + 0.005*\"plastic\" + 0.005*\"what\"'),\n",
       "   (2,\n",
       "    '0.038*\"phone\" + 0.018*\"protection\" + 0.017*\"cover\" + 0.011*\"case\" + 0.010*\"Otter\"'),\n",
       "   (3,\n",
       "    '0.093*\"case\" + 0.070*\"phone\" + 0.024*\"iPhone\" + 0.017*\"screen\" + 0.010*\"Otterbox\"')],\n",
       "  [(0,\n",
       "    '0.029*\"case\" + 0.024*\"product\" + 0.022*\"price\" + 0.018*\"rubber\" + 0.017*\"phone\"'),\n",
       "   (1,\n",
       "    '0.022*\"box\" + 0.017*\"daughter\" + 0.012*\"otter\" + 0.011*\"OtterBox\" + 0.009*\"price\"'),\n",
       "   (2,\n",
       "    '0.054*\"phone\" + 0.045*\"case\" + 0.014*\"iPhone\" + 0.012*\"OtterBox\" + 0.012*\"cases\"'),\n",
       "   (3,\n",
       "    '0.105*\"case\" + 0.063*\"phone\" + 0.024*\"iPhone\" + 0.020*\"Otterbox\" + 0.020*\"screen\"')],\n",
       "  [(0,\n",
       "    '0.069*\"case\" + 0.040*\"phone\" + 0.029*\"Otterbox\" + 0.026*\"iPhone\" + 0.021*\"Defender\"'),\n",
       "   (1,\n",
       "    '0.022*\"Otterbox\" + 0.017*\"box\" + 0.015*\"silicone\" + 0.014*\"otter\" + 0.013*\"product\"'),\n",
       "   (2,\n",
       "    '0.029*\"phone\" + 0.025*\"protection\" + 0.022*\"case\" + 0.013*\"cover\" + 0.011*\"rubber\"'),\n",
       "   (3,\n",
       "    '0.095*\"case\" + 0.068*\"phone\" + 0.023*\"screen\" + 0.020*\"iPhone\" + 0.016*\"protection\"')],\n",
       "  [(0,\n",
       "    '0.098*\"case\" + 0.068*\"phone\" + 0.020*\"iPhone\" + 0.020*\"Otterbox\" + 0.015*\"protection\"'),\n",
       "   (1,\n",
       "    '0.043*\"case\" + 0.033*\"phone\" + 0.021*\"screen\" + 0.016*\"iPhone\" + 0.016*\"rubber\"'),\n",
       "   (2,\n",
       "    '0.075*\"case\" + 0.038*\"phone\" + 0.015*\"screen\" + 0.015*\"protection\" + 0.014*\"clip\"'),\n",
       "   (3,\n",
       "    '0.053*\"phone\" + 0.023*\"cases\" + 0.021*\"case\" + 0.020*\"Otterbox\" + 0.017*\"iPhone\"')],\n",
       "  [(0,\n",
       "    '0.082*\"case\" + 0.067*\"phone\" + 0.034*\"iPhone\" + 0.020*\"Otterbox\" + 0.017*\"screen\"'),\n",
       "   (1,\n",
       "    '0.025*\"Otterbox\" + 0.018*\"product\" + 0.011*\"Amazon\" + 0.009*\"phone\" + 0.007*\"price\"'),\n",
       "   (2,\n",
       "    '0.038*\"case\" + 0.023*\"phone\" + 0.019*\"rubber\" + 0.019*\"box\" + 0.013*\"otter\"'),\n",
       "   (3,\n",
       "    '0.084*\"case\" + 0.062*\"phone\" + 0.018*\"protection\" + 0.017*\"screen\" + 0.014*\"price\"')]]]"
      ]
     },
     "execution_count": 27,
     "metadata": {},
     "output_type": "execute_result"
    }
   ],
   "source": [
    "results_array('B005SUHPO6',4,5) #Not useful at all"
   ]
  },
  {
   "cell_type": "code",
   "execution_count": 28,
   "metadata": {
    "collapsed": false
   },
   "outputs": [
    {
     "name": "stdout",
     "output_type": "stream",
     "text": [
      "59707    excellent product at 1/2 the price as sale at ...\n",
      "59708    Sometimes the flap over the charging place is ...\n",
      "59709    Great case.  Fits like every other Otterbox De...\n",
      "59710    Use these for our technicians and anyone that ...\n",
      "59711    It's very strong and protects my 4S phone! I t...\n",
      "Name: reviewText, dtype: object\n",
      "\n",
      "total reviews for this item :  837\n"
     ]
    },
    {
     "data": {
      "text/plain": [
       "[[84, 167, 251, 335, 418, 502, 586, 670, 753, 837],\n",
       " [[(0, '0.073*\"phone\" + 0.070*\"case\" + 0.021*\"product\"'),\n",
       "   (1, '0.061*\"case\" + 0.043*\"phone\" + 0.029*\"protection\"'),\n",
       "   (2, '0.033*\"phone\" + 0.018*\"cases\" + 0.012*\"one\"'),\n",
       "   (3, '0.101*\"case\" + 0.033*\"phone\" + 0.025*\"Defender\"'),\n",
       "   (4, '0.038*\"phone\" + 0.020*\"Iphone\" + 0.020*\"box\"')],\n",
       "  [(0, '0.082*\"case\" + 0.051*\"phone\" + 0.021*\"screen\"'),\n",
       "   (1, '0.051*\"phone\" + 0.031*\"case\" + 0.020*\"product\"'),\n",
       "   (2, '0.081*\"case\" + 0.056*\"phone\" + 0.026*\"Otterbox\"'),\n",
       "   (3, '0.086*\"case\" + 0.041*\"phone\" + 0.027*\"iPhone\"'),\n",
       "   (4, '0.055*\"case\" + 0.021*\"protection\" + 0.018*\"phone\"')],\n",
       "  [(0, '0.090*\"case\" + 0.024*\"phone\" + 0.015*\"screen\"'),\n",
       "   (1, '0.094*\"case\" + 0.064*\"phone\" + 0.027*\"iPhone\"'),\n",
       "   (2, '0.039*\"product\" + 0.037*\"case\" + 0.028*\"phone\"'),\n",
       "   (3, '0.066*\"phone\" + 0.051*\"case\" + 0.024*\"Otterbox\"'),\n",
       "   (4, '0.035*\"case\" + 0.017*\"silicone\" + 0.016*\"phone\"')],\n",
       "  [(0, '0.014*\"holster\" + 0.013*\"Otterbox\" + 0.012*\"case\"'),\n",
       "   (1, '0.089*\"case\" + 0.072*\"phone\" + 0.026*\"iPhone\"'),\n",
       "   (2, '0.049*\"phone\" + 0.040*\"case\" + 0.015*\"cover\"'),\n",
       "   (3, '0.078*\"case\" + 0.028*\"screen\" + 0.022*\"phone\"'),\n",
       "   (4, '0.076*\"case\" + 0.047*\"phone\" + 0.026*\"protection\"')],\n",
       "  [(0, '0.028*\"phone\" + 0.024*\"color\" + 0.023*\"case\"'),\n",
       "   (1, '0.013*\"product\" + 0.008*\"AND\" + 0.008*\"thing\"'),\n",
       "   (2, '0.084*\"case\" + 0.030*\"Otterbox\" + 0.025*\"phone\"'),\n",
       "   (3, '0.064*\"case\" + 0.040*\"phone\" + 0.015*\"protection\"'),\n",
       "   (4, '0.089*\"case\" + 0.077*\"phone\" + 0.024*\"iPhone\"')],\n",
       "  [(0, '0.066*\"case\" + 0.037*\"phone\" + 0.023*\"iPhone\"'),\n",
       "   (1, '0.028*\"product\" + 0.025*\"case\" + 0.023*\"price\"'),\n",
       "   (2, '0.078*\"case\" + 0.035*\"phone\" + 0.016*\"screen\"'),\n",
       "   (3, '0.088*\"case\" + 0.071*\"phone\" + 0.023*\"screen\"'),\n",
       "   (4, '0.044*\"phone\" + 0.026*\"case\" + 0.014*\"iPhone\"')],\n",
       "  [(0, '0.107*\"case\" + 0.062*\"phone\" + 0.022*\"iPhone\"'),\n",
       "   (1, '0.011*\"button\" + 0.010*\"plastic\" + 0.009*\"what\"'),\n",
       "   (2, '0.049*\"phone\" + 0.025*\"Otterbox\" + 0.022*\"price\"'),\n",
       "   (3, '0.013*\"cell\" + 0.008*\"AND\" + 0.007*\"daughter\"'),\n",
       "   (4, '0.053*\"case\" + 0.036*\"phone\" + 0.024*\"product\"')],\n",
       "  [(0, '0.083*\"phone\" + 0.083*\"case\" + 0.022*\"iPhone\"'),\n",
       "   (1, '0.097*\"case\" + 0.015*\"product\" + 0.012*\"screen\"'),\n",
       "   (2, '0.033*\"case\" + 0.026*\"Defender\" + 0.019*\"iPhone\"'),\n",
       "   (3, '0.056*\"case\" + 0.017*\"iPhone\" + 0.015*\"screen\"'),\n",
       "   (4, '0.018*\"Otterbox\" + 0.013*\"case\" + 0.013*\"holster\"')],\n",
       "  [(0, '0.091*\"case\" + 0.056*\"phone\" + 0.023*\"iPhone\"'),\n",
       "   (1, '0.011*\"cover\" + 0.008*\"colors\" + 0.008*\"rubber\"'),\n",
       "   (2, '0.071*\"case\" + 0.057*\"phone\" + 0.020*\"protection\"'),\n",
       "   (3, '0.077*\"case\" + 0.071*\"phone\" + 0.027*\"protection\"'),\n",
       "   (4, '0.023*\"screen\" + 0.021*\"Otterbox\" + 0.017*\"iPhone\"')],\n",
       "  [(0, '0.014*\"price\" + 0.011*\"IT\" + 0.010*\"product\"'),\n",
       "   (1, '0.076*\"phone\" + 0.073*\"case\" + 0.025*\"protection\"'),\n",
       "   (2, '0.087*\"case\" + 0.064*\"phone\" + 0.019*\"product\"'),\n",
       "   (3, '0.057*\"case\" + 0.034*\"phone\" + 0.013*\"silicone\"'),\n",
       "   (4, '0.064*\"case\" + 0.037*\"iPhone\" + 0.036*\"phone\"')]]]"
      ]
     },
     "execution_count": 28,
     "metadata": {},
     "output_type": "execute_result"
    }
   ],
   "source": [
    "results_array('B005SUHPO6',5,3) #At 80% of total reviews we can see req topics with least probabilities."
   ]
  },
  {
   "cell_type": "code",
   "execution_count": null,
   "metadata": {
    "collapsed": true
   },
   "outputs": [],
   "source": []
  },
  {
   "cell_type": "markdown",
   "metadata": {},
   "source": [
    "# Observations:\n",
    "    It is observed that at 70% of total reviews, with 4 topics and 4 words each, we have accurate results."
   ]
  },
  {
   "cell_type": "markdown",
   "metadata": {},
   "source": [
    "### Working with a different item"
   ]
  },
  {
   "cell_type": "code",
   "execution_count": null,
   "metadata": {
    "collapsed": true
   },
   "outputs": [],
   "source": [
    "#Should run the code with different item and different data. at 70% reviews, 4 and 4 topics and words.."
   ]
  },
  {
   "cell_type": "code",
   "execution_count": null,
   "metadata": {
    "collapsed": true
   },
   "outputs": [],
   "source": []
  }
 ],
 "metadata": {
  "kernelspec": {
   "display_name": "Python 3",
   "language": "python",
   "name": "python3"
  },
  "language_info": {
   "codemirror_mode": {
    "name": "ipython",
    "version": 3
   },
   "file_extension": ".py",
   "mimetype": "text/x-python",
   "name": "python",
   "nbconvert_exporter": "python",
   "pygments_lexer": "ipython3",
   "version": "3.6.0"
  }
 },
 "nbformat": 4,
 "nbformat_minor": 2
}

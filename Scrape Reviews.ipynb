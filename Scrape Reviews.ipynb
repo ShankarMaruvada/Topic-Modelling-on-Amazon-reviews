{
 "cells": [
  {
   "cell_type": "markdown",
   "metadata": {},
   "source": [
    "# Scrape Amazon Reviews\n",
    "    This code scrapes and returns an json file of Amazon reviews for given list of ASIN values"
   ]
  },
  {
   "cell_type": "code",
   "execution_count": null,
   "metadata": {
    "collapsed": true
   },
   "outputs": [],
   "source": []
  },
  {
   "cell_type": "code",
   "execution_count": 6,
   "metadata": {
    "collapsed": false
   },
   "outputs": [
    {
     "name": "stdout",
     "output_type": "stream",
     "text": [
      "Downloading and processing page http://www.amazon.com/dp/B01ETPUQ6E\n",
      "Downloading and processing page http://www.amazon.com/dp/B017HW9DEW\n"
     ]
    }
   ],
   "source": [
    "#!/usr/bin/env python\n",
    "# -*- coding: utf-8 -*-\n",
    "# Written as part of https://www.scrapehero.com/how-to-scrape-amazon-product-reviews-using-python/\t\t\n",
    "from lxml import html  \n",
    "import json\n",
    "import requests\n",
    "import json,re\n",
    "from dateutil import parser as dateparser\n",
    "from time import sleep\n",
    "\n",
    "def ParseReviews(asin):\n",
    "    # Added Retrying \n",
    "    for i in range(5):\n",
    "        try:\n",
    "            #This script has only been tested with Amazon.com\n",
    "            amazon_url  = 'http://www.amazon.com/dp/'+asin\n",
    "            # Add some recent user agent to prevent amazon from blocking the request \n",
    "            # Find some chrome user agent strings  here https://udger.com/resources/ua-list/browser-detail?browser=Chrome\n",
    "            headers = {'User-Agent': 'Mozilla/5.0 (X11; Linux x86_64) AppleWebKit/537.36 (KHTML, like Gecko) Chrome/42.0.2311.90 Safari/537.36'}\n",
    "            page = requests.get(amazon_url,headers = headers)\n",
    "            page_response = page.text\n",
    "            \n",
    "            parser = html.fromstring(page_response)\n",
    "            XPATH_AGGREGATE = '//span[@id=\"acrCustomerReviewText\"]'\n",
    "            XPATH_REVIEW_SECTION_1 = '//div[contains(@id,\"reviews-summary\")]'\n",
    "            XPATH_REVIEW_SECTION_2 = '//div[@data-hook=\"review\"]'\n",
    "\n",
    "            XPATH_AGGREGATE_RATING = '//table[@id=\"histogramTable\"]//tr'\n",
    "            XPATH_PRODUCT_NAME = '//h1//span[@id=\"productTitle\"]//text()'\n",
    "            XPATH_PRODUCT_PRICE  = '//span[@id=\"priceblock_ourprice\"]/text()'\n",
    "            \n",
    "            raw_product_price = parser.xpath(XPATH_PRODUCT_PRICE)\n",
    "            product_price = ''.join(raw_product_price).replace(',','')\n",
    "            \n",
    "            raw_product_name = parser.xpath(XPATH_PRODUCT_NAME)\n",
    "            product_name = ''.join(raw_product_name).strip()\n",
    "            total_ratings  = parser.xpath(XPATH_AGGREGATE_RATING)\n",
    "            reviews = parser.xpath(XPATH_REVIEW_SECTION_1)\n",
    "            if not reviews:\n",
    "                reviews = parser.xpath(XPATH_REVIEW_SECTION_2)\n",
    "            ratings_dict = {}\n",
    "            reviews_list = []\n",
    "            \n",
    "            if not reviews:\n",
    "                raise ValueError('unable to find reviews in page')\n",
    "\n",
    "            #grabing the rating  section in product page\n",
    "            for ratings in total_ratings:\n",
    "                extracted_rating = ratings.xpath('./td//a//text()')\n",
    "                if extracted_rating:\n",
    "                    rating_key = extracted_rating[0] \n",
    "                    raw_raing_value = extracted_rating[1]\n",
    "                    rating_value = raw_raing_value\n",
    "                    if rating_key:\n",
    "                        ratings_dict.update({rating_key:rating_value})\n",
    "            #Parsing individual reviews\n",
    "            for review in reviews:\n",
    "                XPATH_RATING  = './/i[@data-hook=\"review-star-rating\"]//text()'\n",
    "                XPATH_REVIEW_HEADER = './/a[@data-hook=\"review-title\"]//text()'\n",
    "                XPATH_REVIEW_POSTED_DATE = './/a[contains(@href,\"/profile/\")]/parent::span/following-sibling::span/text()'\n",
    "                XPATH_REVIEW_TEXT_1 = './/div[@data-hook=\"review-collapsed\"]//text()'\n",
    "                XPATH_REVIEW_TEXT_2 = './/div//span[@data-action=\"columnbalancing-showfullreview\"]/@data-columnbalancing-showfullreview'\n",
    "                XPATH_REVIEW_COMMENTS = './/span[@data-hook=\"review-comment\"]//text()'\n",
    "                XPATH_AUTHOR  = './/a[contains(@href,\"/profile/\")]/parent::span//text()'\n",
    "                XPATH_REVIEW_TEXT_3  = './/div[contains(@id,\"dpReviews\")]/div/text()'\n",
    "                raw_review_author = review.xpath(XPATH_AUTHOR)\n",
    "                raw_review_rating = review.xpath(XPATH_RATING)\n",
    "                raw_review_header = review.xpath(XPATH_REVIEW_HEADER)\n",
    "                raw_review_posted_date = review.xpath(XPATH_REVIEW_POSTED_DATE)\n",
    "                raw_review_text1 = review.xpath(XPATH_REVIEW_TEXT_1)\n",
    "                raw_review_text2 = review.xpath(XPATH_REVIEW_TEXT_2)\n",
    "                raw_review_text3 = review.xpath(XPATH_REVIEW_TEXT_3)\n",
    "                \n",
    "                author = ' '.join(' '.join(raw_review_author).split()).strip('By')\n",
    "                \n",
    "                #cleaning data\n",
    "                review_rating = ''.join(raw_review_rating).replace('out of 5 stars','')\n",
    "                review_header = ' '.join(' '.join(raw_review_header).split())\n",
    "                review_posted_date = dateparser.parse(''.join(raw_review_posted_date)).strftime('%d %b %Y')\n",
    "                review_text = ' '.join(' '.join(raw_review_text1).split())\n",
    "                \n",
    "                #grabbing hidden comments if present\n",
    "                if raw_review_text2:\n",
    "                    json_loaded_review_data = json.loads(raw_review_text2[0])\n",
    "                    json_loaded_review_data_text = json_loaded_review_data['rest']\n",
    "                    cleaned_json_loaded_review_data_text = re.sub('<.*?>','',json_loaded_review_data_text)\n",
    "                    full_review_text = review_text+cleaned_json_loaded_review_data_text\n",
    "                else:\n",
    "                    full_review_text = review_text\n",
    "                if not raw_review_text1:\n",
    "                    full_review_text = ' '.join(' '.join(raw_review_text3).split())\n",
    "\n",
    "                raw_review_comments = review.xpath(XPATH_REVIEW_COMMENTS)\n",
    "                review_comments = ''.join(raw_review_comments)\n",
    "                review_comments = re.sub('[A-Za-z]','',review_comments).strip()\n",
    "                review_dict = {\n",
    "                                    'review_comment_count':review_comments,\n",
    "                                    'review_text':full_review_text,\n",
    "                                    'review_posted_date':review_posted_date,\n",
    "                                    'review_header':review_header,\n",
    "                                    'review_rating':review_rating,\n",
    "                                    'review_author':author\n",
    "\n",
    "                                }\n",
    "                reviews_list.append(review_dict)\n",
    "\n",
    "            data = {\n",
    "                        'ratings':ratings_dict,\n",
    "                        'reviews':reviews_list,\n",
    "                        'url':amazon_url,\n",
    "                        'price':product_price,\n",
    "                        'name':product_name\n",
    "                    }\n",
    "            return data\n",
    "        except ValueError:\n",
    "            print(\"Retrying to get the correct response\")\n",
    "    \n",
    "    return {\"error\":\"failed to process the page\",\"asin\":asin}\n",
    "            "
   ]
  },
  {
   "cell_type": "code",
   "execution_count": 12,
   "metadata": {
    "collapsed": false
   },
   "outputs": [],
   "source": [
    "def ReadAsin(AsinList):\n",
    "    #add your own ASINs here \n",
    "    extracted_data = []\n",
    "    for asin in AsinList:\n",
    "        print(\"Downloading and processing page http://www.amazon.com/dp/\"+asin)\n",
    "        extracted_data.append(ParseReviews(asin))\n",
    "        sleep(5)\n",
    "    f=open('data.json','w')\n",
    "    json.dump(extracted_data,f,indent=4)\n",
    "    return extracted_data"
   ]
  },
  {
   "cell_type": "markdown",
   "metadata": {},
   "source": [
    "B00UCZGS6S - Samsung Wireless Charging Pad with 2A Wall Charger w/ Warranty - Frustration Free Packaging, Black Sapphire - >1000\n",
    "\n",
    "B00V7FXCZ2 - Samsung Galaxy S6, Black Sapphire 32GB (Verizon Wireless) - 1145\n",
    "\n",
    "B00HWEK39K - Samsung Galaxy S4, Black 16GB (Verizon Wireless) - 1734"
   ]
  },
  {
   "cell_type": "code",
   "execution_count": 13,
   "metadata": {
    "collapsed": true
   },
   "outputs": [],
   "source": [
    "new_list = ['B00HWEK39K']"
   ]
  },
  {
   "cell_type": "code",
   "execution_count": 14,
   "metadata": {
    "collapsed": false
   },
   "outputs": [
    {
     "name": "stdout",
     "output_type": "stream",
     "text": [
      "Downloading and processing page http://www.amazon.com/dp/B00HWEK39K\n"
     ]
    }
   ],
   "source": [
    "samsung_s4_json = ReadAsin(new_list)"
   ]
  },
  {
   "cell_type": "code",
   "execution_count": 19,
   "metadata": {
    "collapsed": false
   },
   "outputs": [
    {
     "data": {
      "text/plain": [
       "1"
      ]
     },
     "execution_count": 19,
     "metadata": {},
     "output_type": "execute_result"
    }
   ],
   "source": []
  },
  {
   "cell_type": "code",
   "execution_count": null,
   "metadata": {
    "collapsed": true
   },
   "outputs": [],
   "source": [
    "import json\n",
    "import os\n",
    "import glob\n",
    "import numpy as np\n",
    "import random"
   ]
  },
  {
   "cell_type": "code",
   "execution_count": 16,
   "metadata": {
    "collapsed": true
   },
   "outputs": [],
   "source": [
    "import pandas as pd\n",
    "\n",
    "def getDF(file):\n",
    "    i = 0\n",
    "    df = {}\n",
    "    for d in file:\n",
    "        df[i] = d\n",
    "        i += 1\n",
    "    return pd.DataFrame.from_dict(df, orient='index')"
   ]
  },
  {
   "cell_type": "code",
   "execution_count": 17,
   "metadata": {
    "collapsed": false
   },
   "outputs": [
    {
     "data": {
      "text/html": [
       "<div>\n",
       "<style>\n",
       "    .dataframe thead tr:only-child th {\n",
       "        text-align: right;\n",
       "    }\n",
       "\n",
       "    .dataframe thead th {\n",
       "        text-align: left;\n",
       "    }\n",
       "\n",
       "    .dataframe tbody tr th {\n",
       "        vertical-align: top;\n",
       "    }\n",
       "</style>\n",
       "<table border=\"1\" class=\"dataframe\">\n",
       "  <thead>\n",
       "    <tr style=\"text-align: right;\">\n",
       "      <th></th>\n",
       "      <th>ratings</th>\n",
       "      <th>reviews</th>\n",
       "      <th>url</th>\n",
       "      <th>price</th>\n",
       "      <th>name</th>\n",
       "    </tr>\n",
       "  </thead>\n",
       "  <tbody>\n",
       "    <tr>\n",
       "      <th>0</th>\n",
       "      <td>{'5 star': '62%', '4 star': '15%', '3 star': '...</td>\n",
       "      <td>[{'review_comment_count': '48', 'review_text':...</td>\n",
       "      <td>http://www.amazon.com/dp/B00HWEK39K</td>\n",
       "      <td></td>\n",
       "      <td>Samsung Galaxy S4, Black 16GB (Verizon Wireless)</td>\n",
       "    </tr>\n",
       "  </tbody>\n",
       "</table>\n",
       "</div>"
      ],
      "text/plain": [
       "                                             ratings  \\\n",
       "0  {'5 star': '62%', '4 star': '15%', '3 star': '...   \n",
       "\n",
       "                                             reviews  \\\n",
       "0  [{'review_comment_count': '48', 'review_text':...   \n",
       "\n",
       "                                   url price  \\\n",
       "0  http://www.amazon.com/dp/B00HWEK39K         \n",
       "\n",
       "                                               name  \n",
       "0  Samsung Galaxy S4, Black 16GB (Verizon Wireless)  "
      ]
     },
     "execution_count": 17,
     "metadata": {},
     "output_type": "execute_result"
    }
   ],
   "source": [
    "getDF(samsung_s4_json)"
   ]
  }
 ],
 "metadata": {
  "kernelspec": {
   "display_name": "Python 3",
   "language": "python",
   "name": "python3"
  },
  "language_info": {
   "codemirror_mode": {
    "name": "ipython",
    "version": 3
   },
   "file_extension": ".py",
   "mimetype": "text/x-python",
   "name": "python",
   "nbconvert_exporter": "python",
   "pygments_lexer": "ipython3",
   "version": "3.6.0"
  }
 },
 "nbformat": 4,
 "nbformat_minor": 2
}

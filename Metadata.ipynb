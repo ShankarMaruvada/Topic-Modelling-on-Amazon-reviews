{
 "cells": [
  {
   "cell_type": "code",
   "execution_count": 1,
   "metadata": {
    "collapsed": true
   },
   "outputs": [],
   "source": [
    "data_dir = 'C:/Users/maruv/Desktop/DSB/LDA/'"
   ]
  },
  {
   "cell_type": "code",
   "execution_count": 2,
   "metadata": {
    "collapsed": true
   },
   "outputs": [],
   "source": [
    "import json\n",
    "import os\n",
    "import glob"
   ]
  },
  {
   "cell_type": "code",
   "execution_count": 3,
   "metadata": {
    "collapsed": true
   },
   "outputs": [],
   "source": [
    "import pandas as pd\n",
    "import gzip\n",
    "\n",
    "def parse(path):\n",
    "    g = gzip.open(path, 'rb')\n",
    "    for l in g:\n",
    "        yield eval(l)\n",
    "\n",
    "def getDF(path):\n",
    "    i = 0\n",
    "    df = {}\n",
    "    for d in parse(path):\n",
    "        df[i] = d\n",
    "        i += 1\n",
    "    return pd.DataFrame.from_dict(df, orient='index')"
   ]
  },
  {
   "cell_type": "code",
   "execution_count": 4,
   "metadata": {
    "collapsed": true
   },
   "outputs": [],
   "source": [
    "df_reviews = getDF(data_dir+'reviews_Cell_Phones_and_Accessories_5.json.gz')\n",
    "df_metadata = getDF(data_dir+'meta_Cell_Phones_and_Accessories.json.gz')"
   ]
  },
  {
   "cell_type": "code",
   "execution_count": 5,
   "metadata": {
    "collapsed": false
   },
   "outputs": [
    {
     "data": {
      "text/html": [
       "<div>\n",
       "<style>\n",
       "    .dataframe thead tr:only-child th {\n",
       "        text-align: right;\n",
       "    }\n",
       "\n",
       "    .dataframe thead th {\n",
       "        text-align: left;\n",
       "    }\n",
       "\n",
       "    .dataframe tbody tr th {\n",
       "        vertical-align: top;\n",
       "    }\n",
       "</style>\n",
       "<table border=\"1\" class=\"dataframe\">\n",
       "  <thead>\n",
       "    <tr style=\"text-align: right;\">\n",
       "      <th></th>\n",
       "      <th>asin</th>\n",
       "      <th>related</th>\n",
       "      <th>title</th>\n",
       "      <th>price</th>\n",
       "      <th>salesRank</th>\n",
       "      <th>imUrl</th>\n",
       "      <th>brand</th>\n",
       "      <th>categories</th>\n",
       "      <th>description</th>\n",
       "    </tr>\n",
       "  </thead>\n",
       "  <tbody>\n",
       "    <tr>\n",
       "      <th>0</th>\n",
       "      <td>0110400550</td>\n",
       "      <td>{'also_bought': ['B00C56IXFG', 'B008ZUQWOK', '...</td>\n",
       "      <td>Pink &amp;amp; White 3d Melt Ice-cream Skin Hard C...</td>\n",
       "      <td>3.33</td>\n",
       "      <td>{'Cell Phones &amp; Accessories': 83460}</td>\n",
       "      <td>http://ecx.images-amazon.com/images/I/31zn6SOL...</td>\n",
       "      <td></td>\n",
       "      <td>[[Cell Phones &amp; Accessories, Cases, Basic Cases]]</td>\n",
       "      <td>Pink &amp; White 3D Melt Ice-Cream Skin Hard Case ...</td>\n",
       "    </tr>\n",
       "    <tr>\n",
       "      <th>1</th>\n",
       "      <td>011040047X</td>\n",
       "      <td>{'buy_after_viewing': ['B008RU7UL2', 'B00698LY...</td>\n",
       "      <td>Purple Hard Case Cover for Iphone 4 4s 4g with...</td>\n",
       "      <td>1.94</td>\n",
       "      <td>{'Cell Phones &amp; Accessories': 495795}</td>\n",
       "      <td>http://ecx.images-amazon.com/images/I/41WCZc2d...</td>\n",
       "      <td>NaN</td>\n",
       "      <td>[[Cell Phones &amp; Accessories, Cases, Basic Cases]]</td>\n",
       "      <td>Purple Hard Case Cover for iPhone 4 4S 4G With...</td>\n",
       "    </tr>\n",
       "    <tr>\n",
       "      <th>2</th>\n",
       "      <td>0195866479</td>\n",
       "      <td>{'buy_after_viewing': ['B00530RXP2', 'B004SH9B...</td>\n",
       "      <td>Hello Kitty Light-weighted Chrome Case Black C...</td>\n",
       "      <td>2.94</td>\n",
       "      <td>{'Cell Phones &amp; Accessories': 371302}</td>\n",
       "      <td>http://ecx.images-amazon.com/images/I/41fy1%2B...</td>\n",
       "      <td>NaN</td>\n",
       "      <td>[[Cell Phones &amp; Accessories, Cases, Basic Cases]]</td>\n",
       "      <td>Thin and light weighted,\\nCase's unique design...</td>\n",
       "    </tr>\n",
       "    <tr>\n",
       "      <th>3</th>\n",
       "      <td>0214514706</td>\n",
       "      <td>{'buy_after_viewing': ['B0042FV2SI', 'B00869D2...</td>\n",
       "      <td>Cool Summer Breeze in the Ocean Beach Collecti...</td>\n",
       "      <td>0.94</td>\n",
       "      <td>{'Cell Phones &amp; Accessories': 778100}</td>\n",
       "      <td>http://ecx.images-amazon.com/images/I/415cmp6Q...</td>\n",
       "      <td>NaN</td>\n",
       "      <td>[[Cell Phones &amp; Accessories, Cases, Basic Cases]]</td>\n",
       "      <td>Product Name:  Cool Summer Breeze In The Ocean...</td>\n",
       "    </tr>\n",
       "    <tr>\n",
       "      <th>4</th>\n",
       "      <td>0214714705</td>\n",
       "      <td>{'buy_after_viewing': ['B008EU7HRM', 'B00869D2...</td>\n",
       "      <td>Cool Summer Breeze In The Ocean Beach Collecti...</td>\n",
       "      <td>5.79</td>\n",
       "      <td>{'Cell Phones &amp; Accessories': 654894}</td>\n",
       "      <td>http://ecx.images-amazon.com/images/I/41XDwPt2...</td>\n",
       "      <td>NaN</td>\n",
       "      <td>[[Cell Phones &amp; Accessories, Cases, Basic Cases]]</td>\n",
       "      <td>Product Name:  Cool Summer Breeze In The Ocean...</td>\n",
       "    </tr>\n",
       "  </tbody>\n",
       "</table>\n",
       "</div>"
      ],
      "text/plain": [
       "         asin                                            related  \\\n",
       "0  0110400550  {'also_bought': ['B00C56IXFG', 'B008ZUQWOK', '...   \n",
       "1  011040047X  {'buy_after_viewing': ['B008RU7UL2', 'B00698LY...   \n",
       "2  0195866479  {'buy_after_viewing': ['B00530RXP2', 'B004SH9B...   \n",
       "3  0214514706  {'buy_after_viewing': ['B0042FV2SI', 'B00869D2...   \n",
       "4  0214714705  {'buy_after_viewing': ['B008EU7HRM', 'B00869D2...   \n",
       "\n",
       "                                               title  price  \\\n",
       "0  Pink &amp; White 3d Melt Ice-cream Skin Hard C...   3.33   \n",
       "1  Purple Hard Case Cover for Iphone 4 4s 4g with...   1.94   \n",
       "2  Hello Kitty Light-weighted Chrome Case Black C...   2.94   \n",
       "3  Cool Summer Breeze in the Ocean Beach Collecti...   0.94   \n",
       "4  Cool Summer Breeze In The Ocean Beach Collecti...   5.79   \n",
       "\n",
       "                               salesRank  \\\n",
       "0   {'Cell Phones & Accessories': 83460}   \n",
       "1  {'Cell Phones & Accessories': 495795}   \n",
       "2  {'Cell Phones & Accessories': 371302}   \n",
       "3  {'Cell Phones & Accessories': 778100}   \n",
       "4  {'Cell Phones & Accessories': 654894}   \n",
       "\n",
       "                                               imUrl brand  \\\n",
       "0  http://ecx.images-amazon.com/images/I/31zn6SOL...         \n",
       "1  http://ecx.images-amazon.com/images/I/41WCZc2d...   NaN   \n",
       "2  http://ecx.images-amazon.com/images/I/41fy1%2B...   NaN   \n",
       "3  http://ecx.images-amazon.com/images/I/415cmp6Q...   NaN   \n",
       "4  http://ecx.images-amazon.com/images/I/41XDwPt2...   NaN   \n",
       "\n",
       "                                          categories  \\\n",
       "0  [[Cell Phones & Accessories, Cases, Basic Cases]]   \n",
       "1  [[Cell Phones & Accessories, Cases, Basic Cases]]   \n",
       "2  [[Cell Phones & Accessories, Cases, Basic Cases]]   \n",
       "3  [[Cell Phones & Accessories, Cases, Basic Cases]]   \n",
       "4  [[Cell Phones & Accessories, Cases, Basic Cases]]   \n",
       "\n",
       "                                         description  \n",
       "0  Pink & White 3D Melt Ice-Cream Skin Hard Case ...  \n",
       "1  Purple Hard Case Cover for iPhone 4 4S 4G With...  \n",
       "2  Thin and light weighted,\\nCase's unique design...  \n",
       "3  Product Name:  Cool Summer Breeze In The Ocean...  \n",
       "4  Product Name:  Cool Summer Breeze In The Ocean...  "
      ]
     },
     "execution_count": 5,
     "metadata": {},
     "output_type": "execute_result"
    }
   ],
   "source": [
    "df_metadata.head()"
   ]
  },
  {
   "cell_type": "code",
   "execution_count": 6,
   "metadata": {
    "collapsed": false
   },
   "outputs": [
    {
     "data": {
      "text/html": [
       "<div>\n",
       "<style>\n",
       "    .dataframe thead tr:only-child th {\n",
       "        text-align: right;\n",
       "    }\n",
       "\n",
       "    .dataframe thead th {\n",
       "        text-align: left;\n",
       "    }\n",
       "\n",
       "    .dataframe tbody tr th {\n",
       "        vertical-align: top;\n",
       "    }\n",
       "</style>\n",
       "<table border=\"1\" class=\"dataframe\">\n",
       "  <thead>\n",
       "    <tr style=\"text-align: right;\">\n",
       "      <th></th>\n",
       "      <th>reviewerID</th>\n",
       "      <th>asin</th>\n",
       "      <th>reviewerName</th>\n",
       "      <th>helpful</th>\n",
       "      <th>reviewText</th>\n",
       "      <th>overall</th>\n",
       "      <th>summary</th>\n",
       "      <th>unixReviewTime</th>\n",
       "      <th>reviewTime</th>\n",
       "    </tr>\n",
       "  </thead>\n",
       "  <tbody>\n",
       "    <tr>\n",
       "      <th>0</th>\n",
       "      <td>A30TL5EWN6DFXT</td>\n",
       "      <td>120401325X</td>\n",
       "      <td>christina</td>\n",
       "      <td>[0, 0]</td>\n",
       "      <td>They look good and stick good! I just don't li...</td>\n",
       "      <td>4.0</td>\n",
       "      <td>Looks Good</td>\n",
       "      <td>1400630400</td>\n",
       "      <td>05 21, 2014</td>\n",
       "    </tr>\n",
       "    <tr>\n",
       "      <th>1</th>\n",
       "      <td>ASY55RVNIL0UD</td>\n",
       "      <td>120401325X</td>\n",
       "      <td>emily l.</td>\n",
       "      <td>[0, 0]</td>\n",
       "      <td>These stickers work like the review says they ...</td>\n",
       "      <td>5.0</td>\n",
       "      <td>Really great product.</td>\n",
       "      <td>1389657600</td>\n",
       "      <td>01 14, 2014</td>\n",
       "    </tr>\n",
       "    <tr>\n",
       "      <th>2</th>\n",
       "      <td>A2TMXE2AFO7ONB</td>\n",
       "      <td>120401325X</td>\n",
       "      <td>Erica</td>\n",
       "      <td>[0, 0]</td>\n",
       "      <td>These are awesome and make my phone look so st...</td>\n",
       "      <td>5.0</td>\n",
       "      <td>LOVE LOVE LOVE</td>\n",
       "      <td>1403740800</td>\n",
       "      <td>06 26, 2014</td>\n",
       "    </tr>\n",
       "    <tr>\n",
       "      <th>3</th>\n",
       "      <td>AWJ0WZQYMYFQ4</td>\n",
       "      <td>120401325X</td>\n",
       "      <td>JM</td>\n",
       "      <td>[4, 4]</td>\n",
       "      <td>Item arrived in great time and was in perfect ...</td>\n",
       "      <td>4.0</td>\n",
       "      <td>Cute!</td>\n",
       "      <td>1382313600</td>\n",
       "      <td>10 21, 2013</td>\n",
       "    </tr>\n",
       "    <tr>\n",
       "      <th>4</th>\n",
       "      <td>ATX7CZYFXI1KW</td>\n",
       "      <td>120401325X</td>\n",
       "      <td>patrice m rogoza</td>\n",
       "      <td>[2, 3]</td>\n",
       "      <td>awesome! stays on, and looks great. can be use...</td>\n",
       "      <td>5.0</td>\n",
       "      <td>leopard home button sticker for iphone 4s</td>\n",
       "      <td>1359849600</td>\n",
       "      <td>02 3, 2013</td>\n",
       "    </tr>\n",
       "  </tbody>\n",
       "</table>\n",
       "</div>"
      ],
      "text/plain": [
       "       reviewerID        asin      reviewerName helpful  \\\n",
       "0  A30TL5EWN6DFXT  120401325X         christina  [0, 0]   \n",
       "1   ASY55RVNIL0UD  120401325X          emily l.  [0, 0]   \n",
       "2  A2TMXE2AFO7ONB  120401325X             Erica  [0, 0]   \n",
       "3   AWJ0WZQYMYFQ4  120401325X                JM  [4, 4]   \n",
       "4   ATX7CZYFXI1KW  120401325X  patrice m rogoza  [2, 3]   \n",
       "\n",
       "                                          reviewText  overall  \\\n",
       "0  They look good and stick good! I just don't li...      4.0   \n",
       "1  These stickers work like the review says they ...      5.0   \n",
       "2  These are awesome and make my phone look so st...      5.0   \n",
       "3  Item arrived in great time and was in perfect ...      4.0   \n",
       "4  awesome! stays on, and looks great. can be use...      5.0   \n",
       "\n",
       "                                     summary  unixReviewTime   reviewTime  \n",
       "0                                 Looks Good      1400630400  05 21, 2014  \n",
       "1                      Really great product.      1389657600  01 14, 2014  \n",
       "2                             LOVE LOVE LOVE      1403740800  06 26, 2014  \n",
       "3                                      Cute!      1382313600  10 21, 2013  \n",
       "4  leopard home button sticker for iphone 4s      1359849600   02 3, 2013  "
      ]
     },
     "execution_count": 6,
     "metadata": {},
     "output_type": "execute_result"
    }
   ],
   "source": [
    "df_reviews.head()"
   ]
  },
  {
   "cell_type": "code",
   "execution_count": 7,
   "metadata": {
    "collapsed": false
   },
   "outputs": [],
   "source": [
    "df_item_names = df_metadata.loc[:,['asin','title']]"
   ]
  },
  {
   "cell_type": "markdown",
   "metadata": {},
   "source": [
    "# This section helps us to select the item name\n",
    "    We have information from the meta data, we can now select the item that we need from the whole set."
   ]
  },
  {
   "cell_type": "code",
   "execution_count": 8,
   "metadata": {
    "collapsed": false
   },
   "outputs": [
    {
     "data": {
      "text/html": [
       "<div>\n",
       "<style>\n",
       "    .dataframe thead tr:only-child th {\n",
       "        text-align: right;\n",
       "    }\n",
       "\n",
       "    .dataframe thead th {\n",
       "        text-align: left;\n",
       "    }\n",
       "\n",
       "    .dataframe tbody tr th {\n",
       "        vertical-align: top;\n",
       "    }\n",
       "</style>\n",
       "<table border=\"1\" class=\"dataframe\">\n",
       "  <thead>\n",
       "    <tr style=\"text-align: right;\">\n",
       "      <th></th>\n",
       "      <th>asin</th>\n",
       "      <th>title</th>\n",
       "    </tr>\n",
       "  </thead>\n",
       "  <tbody>\n",
       "    <tr>\n",
       "      <th>0</th>\n",
       "      <td>0110400550</td>\n",
       "      <td>Pink &amp;amp; White 3d Melt Ice-cream Skin Hard C...</td>\n",
       "    </tr>\n",
       "    <tr>\n",
       "      <th>1</th>\n",
       "      <td>011040047X</td>\n",
       "      <td>Purple Hard Case Cover for Iphone 4 4s 4g with...</td>\n",
       "    </tr>\n",
       "    <tr>\n",
       "      <th>2</th>\n",
       "      <td>0195866479</td>\n",
       "      <td>Hello Kitty Light-weighted Chrome Case Black C...</td>\n",
       "    </tr>\n",
       "    <tr>\n",
       "      <th>3</th>\n",
       "      <td>0214514706</td>\n",
       "      <td>Cool Summer Breeze in the Ocean Beach Collecti...</td>\n",
       "    </tr>\n",
       "    <tr>\n",
       "      <th>4</th>\n",
       "      <td>0214714705</td>\n",
       "      <td>Cool Summer Breeze In The Ocean Beach Collecti...</td>\n",
       "    </tr>\n",
       "  </tbody>\n",
       "</table>\n",
       "</div>"
      ],
      "text/plain": [
       "         asin                                              title\n",
       "0  0110400550  Pink &amp; White 3d Melt Ice-cream Skin Hard C...\n",
       "1  011040047X  Purple Hard Case Cover for Iphone 4 4s 4g with...\n",
       "2  0195866479  Hello Kitty Light-weighted Chrome Case Black C...\n",
       "3  0214514706  Cool Summer Breeze in the Ocean Beach Collecti...\n",
       "4  0214714705  Cool Summer Breeze In The Ocean Beach Collecti..."
      ]
     },
     "execution_count": 8,
     "metadata": {},
     "output_type": "execute_result"
    }
   ],
   "source": [
    "df_item_names.head()"
   ]
  },
  {
   "cell_type": "code",
   "execution_count": 13,
   "metadata": {
    "collapsed": false
   },
   "outputs": [
    {
     "data": {
      "text/html": [
       "<div>\n",
       "<style>\n",
       "    .dataframe thead tr:only-child th {\n",
       "        text-align: right;\n",
       "    }\n",
       "\n",
       "    .dataframe thead th {\n",
       "        text-align: left;\n",
       "    }\n",
       "\n",
       "    .dataframe tbody tr th {\n",
       "        vertical-align: top;\n",
       "    }\n",
       "</style>\n",
       "<table border=\"1\" class=\"dataframe\">\n",
       "  <thead>\n",
       "    <tr style=\"text-align: right;\">\n",
       "      <th></th>\n",
       "      <th>title</th>\n",
       "    </tr>\n",
       "  </thead>\n",
       "  <tbody>\n",
       "    <tr>\n",
       "      <th>104895</th>\n",
       "      <td>Otterbox Defender Series Hybrid Case &amp;amp; Hol...</td>\n",
       "    </tr>\n",
       "  </tbody>\n",
       "</table>\n",
       "</div>"
      ],
      "text/plain": [
       "                                                    title\n",
       "104895  Otterbox Defender Series Hybrid Case &amp; Hol..."
      ]
     },
     "execution_count": 13,
     "metadata": {},
     "output_type": "execute_result"
    }
   ],
   "source": [
    "req_item = df_item_names.loc[df_item_names.asin.isin(['B005SUHPO6']),['title']]\n",
    "req_item"
   ]
  },
  {
   "cell_type": "code",
   "execution_count": null,
   "metadata": {
    "collapsed": true
   },
   "outputs": [],
   "source": []
  }
 ],
 "metadata": {
  "kernelspec": {
   "display_name": "Python 3",
   "language": "python",
   "name": "python3"
  },
  "language_info": {
   "codemirror_mode": {
    "name": "ipython",
    "version": 3
   },
   "file_extension": ".py",
   "mimetype": "text/x-python",
   "name": "python",
   "nbconvert_exporter": "python",
   "pygments_lexer": "ipython3",
   "version": "3.6.0"
  }
 },
 "nbformat": 4,
 "nbformat_minor": 2
}
